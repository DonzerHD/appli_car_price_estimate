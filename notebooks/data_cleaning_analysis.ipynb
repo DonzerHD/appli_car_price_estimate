{
 "cells": [
  {
   "cell_type": "code",
   "execution_count": 154,
   "metadata": {},
   "outputs": [],
   "source": [
    "import pandas as pd\n",
    "import seaborn as sns\n",
    "import matplotlib.pyplot as plt\n",
    "from ydata_profiling import ProfileReport"
   ]
  },
  {
   "cell_type": "code",
   "execution_count": 155,
   "metadata": {},
   "outputs": [],
   "source": [
    "df = pd.read_csv(\"../data/carprice-assignment-6447798486dfd210498974.csv\")"
   ]
  },
  {
   "cell_type": "code",
   "execution_count": 156,
   "metadata": {},
   "outputs": [
    {
     "data": {
      "text/html": [
       "<div>\n",
       "<style scoped>\n",
       "    .dataframe tbody tr th:only-of-type {\n",
       "        vertical-align: middle;\n",
       "    }\n",
       "\n",
       "    .dataframe tbody tr th {\n",
       "        vertical-align: top;\n",
       "    }\n",
       "\n",
       "    .dataframe thead th {\n",
       "        text-align: right;\n",
       "    }\n",
       "</style>\n",
       "<table border=\"1\" class=\"dataframe\">\n",
       "  <thead>\n",
       "    <tr style=\"text-align: right;\">\n",
       "      <th></th>\n",
       "      <th>car_ID</th>\n",
       "      <th>symboling</th>\n",
       "      <th>CarName</th>\n",
       "      <th>fueltype</th>\n",
       "      <th>aspiration</th>\n",
       "      <th>doornumber</th>\n",
       "      <th>carbody</th>\n",
       "      <th>drivewheel</th>\n",
       "      <th>enginelocation</th>\n",
       "      <th>wheelbase</th>\n",
       "      <th>carlength</th>\n",
       "      <th>carwidth</th>\n",
       "      <th>carheight</th>\n",
       "      <th>curbweight</th>\n",
       "      <th>enginetype</th>\n",
       "      <th>cylindernumber</th>\n",
       "      <th>enginesize</th>\n",
       "      <th>fuelsystem</th>\n",
       "      <th>boreratio</th>\n",
       "      <th>stroke</th>\n",
       "      <th>compressionratio</th>\n",
       "      <th>horsepower</th>\n",
       "      <th>peakrpm</th>\n",
       "      <th>citympg</th>\n",
       "      <th>highwaympg</th>\n",
       "      <th>price</th>\n",
       "    </tr>\n",
       "  </thead>\n",
       "  <tbody>\n",
       "    <tr>\n",
       "      <th>0</th>\n",
       "      <td>1</td>\n",
       "      <td>3</td>\n",
       "      <td>alfa-romero giulia</td>\n",
       "      <td>gas</td>\n",
       "      <td>std</td>\n",
       "      <td>two</td>\n",
       "      <td>convertible</td>\n",
       "      <td>rwd</td>\n",
       "      <td>front</td>\n",
       "      <td>88.6</td>\n",
       "      <td>168.8</td>\n",
       "      <td>64.1</td>\n",
       "      <td>48.8</td>\n",
       "      <td>2548</td>\n",
       "      <td>dohc</td>\n",
       "      <td>four</td>\n",
       "      <td>130</td>\n",
       "      <td>mpfi</td>\n",
       "      <td>3.47</td>\n",
       "      <td>2.68</td>\n",
       "      <td>9.0</td>\n",
       "      <td>111</td>\n",
       "      <td>5000</td>\n",
       "      <td>21</td>\n",
       "      <td>27</td>\n",
       "      <td>13495.0</td>\n",
       "    </tr>\n",
       "    <tr>\n",
       "      <th>1</th>\n",
       "      <td>2</td>\n",
       "      <td>3</td>\n",
       "      <td>alfa-romero stelvio</td>\n",
       "      <td>gas</td>\n",
       "      <td>std</td>\n",
       "      <td>two</td>\n",
       "      <td>convertible</td>\n",
       "      <td>rwd</td>\n",
       "      <td>front</td>\n",
       "      <td>88.6</td>\n",
       "      <td>168.8</td>\n",
       "      <td>64.1</td>\n",
       "      <td>48.8</td>\n",
       "      <td>2548</td>\n",
       "      <td>dohc</td>\n",
       "      <td>four</td>\n",
       "      <td>130</td>\n",
       "      <td>mpfi</td>\n",
       "      <td>3.47</td>\n",
       "      <td>2.68</td>\n",
       "      <td>9.0</td>\n",
       "      <td>111</td>\n",
       "      <td>5000</td>\n",
       "      <td>21</td>\n",
       "      <td>27</td>\n",
       "      <td>16500.0</td>\n",
       "    </tr>\n",
       "    <tr>\n",
       "      <th>2</th>\n",
       "      <td>3</td>\n",
       "      <td>1</td>\n",
       "      <td>alfa-romero Quadrifoglio</td>\n",
       "      <td>gas</td>\n",
       "      <td>std</td>\n",
       "      <td>two</td>\n",
       "      <td>hatchback</td>\n",
       "      <td>rwd</td>\n",
       "      <td>front</td>\n",
       "      <td>94.5</td>\n",
       "      <td>171.2</td>\n",
       "      <td>65.5</td>\n",
       "      <td>52.4</td>\n",
       "      <td>2823</td>\n",
       "      <td>ohcv</td>\n",
       "      <td>six</td>\n",
       "      <td>152</td>\n",
       "      <td>mpfi</td>\n",
       "      <td>2.68</td>\n",
       "      <td>3.47</td>\n",
       "      <td>9.0</td>\n",
       "      <td>154</td>\n",
       "      <td>5000</td>\n",
       "      <td>19</td>\n",
       "      <td>26</td>\n",
       "      <td>16500.0</td>\n",
       "    </tr>\n",
       "    <tr>\n",
       "      <th>3</th>\n",
       "      <td>4</td>\n",
       "      <td>2</td>\n",
       "      <td>audi 100 ls</td>\n",
       "      <td>gas</td>\n",
       "      <td>std</td>\n",
       "      <td>four</td>\n",
       "      <td>sedan</td>\n",
       "      <td>fwd</td>\n",
       "      <td>front</td>\n",
       "      <td>99.8</td>\n",
       "      <td>176.6</td>\n",
       "      <td>66.2</td>\n",
       "      <td>54.3</td>\n",
       "      <td>2337</td>\n",
       "      <td>ohc</td>\n",
       "      <td>four</td>\n",
       "      <td>109</td>\n",
       "      <td>mpfi</td>\n",
       "      <td>3.19</td>\n",
       "      <td>3.40</td>\n",
       "      <td>10.0</td>\n",
       "      <td>102</td>\n",
       "      <td>5500</td>\n",
       "      <td>24</td>\n",
       "      <td>30</td>\n",
       "      <td>13950.0</td>\n",
       "    </tr>\n",
       "    <tr>\n",
       "      <th>4</th>\n",
       "      <td>5</td>\n",
       "      <td>2</td>\n",
       "      <td>audi 100ls</td>\n",
       "      <td>gas</td>\n",
       "      <td>std</td>\n",
       "      <td>four</td>\n",
       "      <td>sedan</td>\n",
       "      <td>4wd</td>\n",
       "      <td>front</td>\n",
       "      <td>99.4</td>\n",
       "      <td>176.6</td>\n",
       "      <td>66.4</td>\n",
       "      <td>54.3</td>\n",
       "      <td>2824</td>\n",
       "      <td>ohc</td>\n",
       "      <td>five</td>\n",
       "      <td>136</td>\n",
       "      <td>mpfi</td>\n",
       "      <td>3.19</td>\n",
       "      <td>3.40</td>\n",
       "      <td>8.0</td>\n",
       "      <td>115</td>\n",
       "      <td>5500</td>\n",
       "      <td>18</td>\n",
       "      <td>22</td>\n",
       "      <td>17450.0</td>\n",
       "    </tr>\n",
       "  </tbody>\n",
       "</table>\n",
       "</div>"
      ],
      "text/plain": [
       "   car_ID  symboling                   CarName fueltype aspiration doornumber  \\\n",
       "0       1          3        alfa-romero giulia      gas        std        two   \n",
       "1       2          3       alfa-romero stelvio      gas        std        two   \n",
       "2       3          1  alfa-romero Quadrifoglio      gas        std        two   \n",
       "3       4          2               audi 100 ls      gas        std       four   \n",
       "4       5          2                audi 100ls      gas        std       four   \n",
       "\n",
       "       carbody drivewheel enginelocation  wheelbase  carlength  carwidth  \\\n",
       "0  convertible        rwd          front       88.6      168.8      64.1   \n",
       "1  convertible        rwd          front       88.6      168.8      64.1   \n",
       "2    hatchback        rwd          front       94.5      171.2      65.5   \n",
       "3        sedan        fwd          front       99.8      176.6      66.2   \n",
       "4        sedan        4wd          front       99.4      176.6      66.4   \n",
       "\n",
       "   carheight  curbweight enginetype cylindernumber  enginesize fuelsystem  \\\n",
       "0       48.8        2548       dohc           four         130       mpfi   \n",
       "1       48.8        2548       dohc           four         130       mpfi   \n",
       "2       52.4        2823       ohcv            six         152       mpfi   \n",
       "3       54.3        2337        ohc           four         109       mpfi   \n",
       "4       54.3        2824        ohc           five         136       mpfi   \n",
       "\n",
       "   boreratio  stroke  compressionratio  horsepower  peakrpm  citympg  \\\n",
       "0       3.47    2.68               9.0         111     5000       21   \n",
       "1       3.47    2.68               9.0         111     5000       21   \n",
       "2       2.68    3.47               9.0         154     5000       19   \n",
       "3       3.19    3.40              10.0         102     5500       24   \n",
       "4       3.19    3.40               8.0         115     5500       18   \n",
       "\n",
       "   highwaympg    price  \n",
       "0          27  13495.0  \n",
       "1          27  16500.0  \n",
       "2          26  16500.0  \n",
       "3          30  13950.0  \n",
       "4          22  17450.0  "
      ]
     },
     "execution_count": 156,
     "metadata": {},
     "output_type": "execute_result"
    }
   ],
   "source": [
    "# pour voir toutes les colonnes du df\n",
    "pd.set_option(\"display.max_columns\", None)\n",
    "df.head()\n",
    "# symboling, niveau de risque assurance de -3 à 3\n",
    "# aspiration = turbo ou pas\n",
    "# carbody = type de voiture\n",
    "# drivewheel = rwd propu, fwd traction, 4wd 4 roue motrice\n",
    "# enginelocation = moteur avant ou arriere\n",
    "# wheelbase = empattement écartement entre les roues"
   ]
  },
  {
   "cell_type": "code",
   "execution_count": 157,
   "metadata": {},
   "outputs": [
    {
     "data": {
      "text/plain": [
       "(205, 26)"
      ]
     },
     "execution_count": 157,
     "metadata": {},
     "output_type": "execute_result"
    }
   ],
   "source": [
    "df.shape"
   ]
  },
  {
   "cell_type": "code",
   "execution_count": 158,
   "metadata": {},
   "outputs": [
    {
     "data": {
      "text/plain": [
       "car_ID              0\n",
       "symboling           0\n",
       "CarName             0\n",
       "fueltype            0\n",
       "aspiration          0\n",
       "doornumber          0\n",
       "carbody             0\n",
       "drivewheel          0\n",
       "enginelocation      0\n",
       "wheelbase           0\n",
       "carlength           0\n",
       "carwidth            0\n",
       "carheight           0\n",
       "curbweight          0\n",
       "enginetype          0\n",
       "cylindernumber      0\n",
       "enginesize          0\n",
       "fuelsystem          0\n",
       "boreratio           0\n",
       "stroke              0\n",
       "compressionratio    0\n",
       "horsepower          0\n",
       "peakrpm             0\n",
       "citympg             0\n",
       "highwaympg          0\n",
       "price               0\n",
       "dtype: int64"
      ]
     },
     "execution_count": 158,
     "metadata": {},
     "output_type": "execute_result"
    }
   ],
   "source": [
    "# Vérification des valeurs manquantes dans chaque colonne\n",
    "df.isnull().sum()"
   ]
  },
  {
   "cell_type": "code",
   "execution_count": 159,
   "metadata": {},
   "outputs": [
    {
     "data": {
      "text/plain": [
       "0"
      ]
     },
     "execution_count": 159,
     "metadata": {},
     "output_type": "execute_result"
    }
   ],
   "source": [
    "df.duplicated().sum()"
   ]
  },
  {
   "cell_type": "code",
   "execution_count": 160,
   "metadata": {},
   "outputs": [],
   "source": [
    "df = df.rename(columns={'symboling': 'niveau_risque_assurance', 'CarName': 'marque_voiture', 'fueltype': 'carburant', 'aspiration': 'turbo', 'doornumber': 'nombre_portes', 'carbody': 'type_vehicule', 'drivewheel': 'roues_motrices', 'enginelocation': 'emplacement_moteur', 'wheelbase': 'empattement(cm)', 'carlength': 'longueur_voiture(cm)', 'carwidth': 'largeur_voiture(cm)', 'carheight': 'hauteur_voiture(cm)', 'curbweight': 'poids_vehicule(kg)', 'enginetype': 'type_moteur', 'cylindernumber': 'nombre_cylindres', 'enginesize': 'taille_moteur', 'fuelsystem': 'systeme_carburant', 'boreratio': 'taux_alésage(cm)', 'stroke': 'course_piston(cm)', 'compressionratio': 'taux_compression', 'horsepower': 'chevaux', 'peakrpm': 'tour_moteur', 'citympg': 'consommation_ville', 'highwaympg': 'consommation_autoroute', 'price': 'prix'})"
   ]
  },
  {
   "attachments": {},
   "cell_type": "markdown",
   "metadata": {},
   "source": [
    "## Colonne marque_voiture"
   ]
  },
  {
   "cell_type": "code",
   "execution_count": 161,
   "metadata": {},
   "outputs": [
    {
     "data": {
      "text/plain": [
       "0            alfa-romero giulia\n",
       "1           alfa-romero stelvio\n",
       "2      alfa-romero Quadrifoglio\n",
       "3                   audi 100 ls\n",
       "4                    audi 100ls\n",
       "                 ...           \n",
       "200             volvo 145e (sw)\n",
       "201                 volvo 144ea\n",
       "202                 volvo 244dl\n",
       "203                   volvo 246\n",
       "204                 volvo 264gl\n",
       "Name: marque_voiture, Length: 205, dtype: object"
      ]
     },
     "execution_count": 161,
     "metadata": {},
     "output_type": "execute_result"
    }
   ],
   "source": [
    "df[\"marque_voiture\"]"
   ]
  },
  {
   "cell_type": "code",
   "execution_count": 162,
   "metadata": {},
   "outputs": [],
   "source": [
    "# Séparer la colonne \"marque_voiture\" en utilisant l'espace comme délimiteur et stocker les résultats dans un nouveau dataframe\n",
    "car_name_df = df[\"marque_voiture\"].str.split(\" \", n=1, expand=True)\n",
    "\n",
    "# Renommer les colonnes du nouveau dataframe\n",
    "car_name_df.columns = [\"marque\", \"modele\"]\n",
    "\n",
    "# Supprimer les espaces dans la colonne \"modele\"\n",
    "car_name_df[\"modele\"] = car_name_df[\"modele\"].str.replace(\" \", \"\")\n",
    "\n",
    "# Ajouter les nouvelles colonnes au dataframe original\n",
    "df = pd.concat([df, car_name_df], axis=1)\n",
    "\n",
    "# Supprimer la colonne \"marque_voiture\"\n",
    "df.drop(\"marque_voiture\", axis=1, inplace=True)"
   ]
  },
  {
   "cell_type": "code",
   "execution_count": 163,
   "metadata": {},
   "outputs": [
    {
     "data": {
      "text/html": [
       "<div>\n",
       "<style scoped>\n",
       "    .dataframe tbody tr th:only-of-type {\n",
       "        vertical-align: middle;\n",
       "    }\n",
       "\n",
       "    .dataframe tbody tr th {\n",
       "        vertical-align: top;\n",
       "    }\n",
       "\n",
       "    .dataframe thead th {\n",
       "        text-align: right;\n",
       "    }\n",
       "</style>\n",
       "<table border=\"1\" class=\"dataframe\">\n",
       "  <thead>\n",
       "    <tr style=\"text-align: right;\">\n",
       "      <th></th>\n",
       "      <th>car_ID</th>\n",
       "      <th>niveau_risque_assurance</th>\n",
       "      <th>carburant</th>\n",
       "      <th>turbo</th>\n",
       "      <th>nombre_portes</th>\n",
       "      <th>type_vehicule</th>\n",
       "      <th>roues_motrices</th>\n",
       "      <th>emplacement_moteur</th>\n",
       "      <th>empattement(cm)</th>\n",
       "      <th>longueur_voiture(cm)</th>\n",
       "      <th>largeur_voiture(cm)</th>\n",
       "      <th>hauteur_voiture(cm)</th>\n",
       "      <th>poids_vehicule(kg)</th>\n",
       "      <th>type_moteur</th>\n",
       "      <th>nombre_cylindres</th>\n",
       "      <th>taille_moteur</th>\n",
       "      <th>systeme_carburant</th>\n",
       "      <th>taux_alésage(cm)</th>\n",
       "      <th>course_piston(cm)</th>\n",
       "      <th>taux_compression</th>\n",
       "      <th>chevaux</th>\n",
       "      <th>tour_moteur</th>\n",
       "      <th>consommation_ville</th>\n",
       "      <th>consommation_autoroute</th>\n",
       "      <th>prix</th>\n",
       "      <th>marque</th>\n",
       "      <th>modele</th>\n",
       "    </tr>\n",
       "  </thead>\n",
       "  <tbody>\n",
       "    <tr>\n",
       "      <th>0</th>\n",
       "      <td>1</td>\n",
       "      <td>3</td>\n",
       "      <td>gas</td>\n",
       "      <td>std</td>\n",
       "      <td>two</td>\n",
       "      <td>convertible</td>\n",
       "      <td>rwd</td>\n",
       "      <td>front</td>\n",
       "      <td>88.6</td>\n",
       "      <td>168.8</td>\n",
       "      <td>64.1</td>\n",
       "      <td>48.8</td>\n",
       "      <td>2548</td>\n",
       "      <td>dohc</td>\n",
       "      <td>four</td>\n",
       "      <td>130</td>\n",
       "      <td>mpfi</td>\n",
       "      <td>3.47</td>\n",
       "      <td>2.68</td>\n",
       "      <td>9.0</td>\n",
       "      <td>111</td>\n",
       "      <td>5000</td>\n",
       "      <td>21</td>\n",
       "      <td>27</td>\n",
       "      <td>13495.0</td>\n",
       "      <td>alfa-romero</td>\n",
       "      <td>giulia</td>\n",
       "    </tr>\n",
       "    <tr>\n",
       "      <th>1</th>\n",
       "      <td>2</td>\n",
       "      <td>3</td>\n",
       "      <td>gas</td>\n",
       "      <td>std</td>\n",
       "      <td>two</td>\n",
       "      <td>convertible</td>\n",
       "      <td>rwd</td>\n",
       "      <td>front</td>\n",
       "      <td>88.6</td>\n",
       "      <td>168.8</td>\n",
       "      <td>64.1</td>\n",
       "      <td>48.8</td>\n",
       "      <td>2548</td>\n",
       "      <td>dohc</td>\n",
       "      <td>four</td>\n",
       "      <td>130</td>\n",
       "      <td>mpfi</td>\n",
       "      <td>3.47</td>\n",
       "      <td>2.68</td>\n",
       "      <td>9.0</td>\n",
       "      <td>111</td>\n",
       "      <td>5000</td>\n",
       "      <td>21</td>\n",
       "      <td>27</td>\n",
       "      <td>16500.0</td>\n",
       "      <td>alfa-romero</td>\n",
       "      <td>stelvio</td>\n",
       "    </tr>\n",
       "    <tr>\n",
       "      <th>2</th>\n",
       "      <td>3</td>\n",
       "      <td>1</td>\n",
       "      <td>gas</td>\n",
       "      <td>std</td>\n",
       "      <td>two</td>\n",
       "      <td>hatchback</td>\n",
       "      <td>rwd</td>\n",
       "      <td>front</td>\n",
       "      <td>94.5</td>\n",
       "      <td>171.2</td>\n",
       "      <td>65.5</td>\n",
       "      <td>52.4</td>\n",
       "      <td>2823</td>\n",
       "      <td>ohcv</td>\n",
       "      <td>six</td>\n",
       "      <td>152</td>\n",
       "      <td>mpfi</td>\n",
       "      <td>2.68</td>\n",
       "      <td>3.47</td>\n",
       "      <td>9.0</td>\n",
       "      <td>154</td>\n",
       "      <td>5000</td>\n",
       "      <td>19</td>\n",
       "      <td>26</td>\n",
       "      <td>16500.0</td>\n",
       "      <td>alfa-romero</td>\n",
       "      <td>Quadrifoglio</td>\n",
       "    </tr>\n",
       "    <tr>\n",
       "      <th>3</th>\n",
       "      <td>4</td>\n",
       "      <td>2</td>\n",
       "      <td>gas</td>\n",
       "      <td>std</td>\n",
       "      <td>four</td>\n",
       "      <td>sedan</td>\n",
       "      <td>fwd</td>\n",
       "      <td>front</td>\n",
       "      <td>99.8</td>\n",
       "      <td>176.6</td>\n",
       "      <td>66.2</td>\n",
       "      <td>54.3</td>\n",
       "      <td>2337</td>\n",
       "      <td>ohc</td>\n",
       "      <td>four</td>\n",
       "      <td>109</td>\n",
       "      <td>mpfi</td>\n",
       "      <td>3.19</td>\n",
       "      <td>3.40</td>\n",
       "      <td>10.0</td>\n",
       "      <td>102</td>\n",
       "      <td>5500</td>\n",
       "      <td>24</td>\n",
       "      <td>30</td>\n",
       "      <td>13950.0</td>\n",
       "      <td>audi</td>\n",
       "      <td>100ls</td>\n",
       "    </tr>\n",
       "    <tr>\n",
       "      <th>4</th>\n",
       "      <td>5</td>\n",
       "      <td>2</td>\n",
       "      <td>gas</td>\n",
       "      <td>std</td>\n",
       "      <td>four</td>\n",
       "      <td>sedan</td>\n",
       "      <td>4wd</td>\n",
       "      <td>front</td>\n",
       "      <td>99.4</td>\n",
       "      <td>176.6</td>\n",
       "      <td>66.4</td>\n",
       "      <td>54.3</td>\n",
       "      <td>2824</td>\n",
       "      <td>ohc</td>\n",
       "      <td>five</td>\n",
       "      <td>136</td>\n",
       "      <td>mpfi</td>\n",
       "      <td>3.19</td>\n",
       "      <td>3.40</td>\n",
       "      <td>8.0</td>\n",
       "      <td>115</td>\n",
       "      <td>5500</td>\n",
       "      <td>18</td>\n",
       "      <td>22</td>\n",
       "      <td>17450.0</td>\n",
       "      <td>audi</td>\n",
       "      <td>100ls</td>\n",
       "    </tr>\n",
       "  </tbody>\n",
       "</table>\n",
       "</div>"
      ],
      "text/plain": [
       "   car_ID  niveau_risque_assurance carburant turbo nombre_portes  \\\n",
       "0       1                        3       gas   std           two   \n",
       "1       2                        3       gas   std           two   \n",
       "2       3                        1       gas   std           two   \n",
       "3       4                        2       gas   std          four   \n",
       "4       5                        2       gas   std          four   \n",
       "\n",
       "  type_vehicule roues_motrices emplacement_moteur  empattement(cm)  \\\n",
       "0   convertible            rwd              front             88.6   \n",
       "1   convertible            rwd              front             88.6   \n",
       "2     hatchback            rwd              front             94.5   \n",
       "3         sedan            fwd              front             99.8   \n",
       "4         sedan            4wd              front             99.4   \n",
       "\n",
       "   longueur_voiture(cm)  largeur_voiture(cm)  hauteur_voiture(cm)  \\\n",
       "0                 168.8                 64.1                 48.8   \n",
       "1                 168.8                 64.1                 48.8   \n",
       "2                 171.2                 65.5                 52.4   \n",
       "3                 176.6                 66.2                 54.3   \n",
       "4                 176.6                 66.4                 54.3   \n",
       "\n",
       "   poids_vehicule(kg) type_moteur nombre_cylindres  taille_moteur  \\\n",
       "0                2548        dohc             four            130   \n",
       "1                2548        dohc             four            130   \n",
       "2                2823        ohcv              six            152   \n",
       "3                2337         ohc             four            109   \n",
       "4                2824         ohc             five            136   \n",
       "\n",
       "  systeme_carburant  taux_alésage(cm)  course_piston(cm)  taux_compression  \\\n",
       "0              mpfi              3.47               2.68               9.0   \n",
       "1              mpfi              3.47               2.68               9.0   \n",
       "2              mpfi              2.68               3.47               9.0   \n",
       "3              mpfi              3.19               3.40              10.0   \n",
       "4              mpfi              3.19               3.40               8.0   \n",
       "\n",
       "   chevaux  tour_moteur  consommation_ville  consommation_autoroute     prix  \\\n",
       "0      111         5000                  21                      27  13495.0   \n",
       "1      111         5000                  21                      27  16500.0   \n",
       "2      154         5000                  19                      26  16500.0   \n",
       "3      102         5500                  24                      30  13950.0   \n",
       "4      115         5500                  18                      22  17450.0   \n",
       "\n",
       "        marque        modele  \n",
       "0  alfa-romero        giulia  \n",
       "1  alfa-romero       stelvio  \n",
       "2  alfa-romero  Quadrifoglio  \n",
       "3         audi         100ls  \n",
       "4         audi         100ls  "
      ]
     },
     "execution_count": 163,
     "metadata": {},
     "output_type": "execute_result"
    }
   ],
   "source": [
    "df.head()"
   ]
  },
  {
   "attachments": {},
   "cell_type": "markdown",
   "metadata": {},
   "source": [
    "## type_vehicule"
   ]
  },
  {
   "cell_type": "code",
   "execution_count": 164,
   "metadata": {},
   "outputs": [
    {
     "data": {
      "text/plain": [
       "sedan          96\n",
       "hatchback      70\n",
       "wagon          25\n",
       "hardtop         8\n",
       "convertible     6\n",
       "Name: type_vehicule, dtype: int64"
      ]
     },
     "execution_count": 164,
     "metadata": {},
     "output_type": "execute_result"
    }
   ],
   "source": [
    "df[\"type_vehicule\"].value_counts()"
   ]
  },
  {
   "cell_type": "code",
   "execution_count": 165,
   "metadata": {},
   "outputs": [],
   "source": [
    "# Créer un dictionnaire pour les traductions des types de carrosserie\n",
    "traductions_type_vehicule = {\n",
    "    \"sedan\": \"berline\",\n",
    "    \"hatchback\": \"hayon\",\n",
    "    \"wagon\": \"break\",\n",
    "    \"hardtop\": \"coupé\",\n",
    "    \"convertible\": \"décapotable\"\n",
    "}\n",
    "\n",
    "# Traduire les types de carrosserie dans la colonne \"type_vehicule\"\n",
    "df[\"type_vehicule\"] = df[\"type_vehicule\"].map(traductions_type_vehicule)"
   ]
  },
  {
   "cell_type": "code",
   "execution_count": 166,
   "metadata": {},
   "outputs": [
    {
     "data": {
      "text/plain": [
       "berline        96\n",
       "hayon          70\n",
       "break          25\n",
       "coupé           8\n",
       "décapotable     6\n",
       "Name: type_vehicule, dtype: int64"
      ]
     },
     "execution_count": 166,
     "metadata": {},
     "output_type": "execute_result"
    }
   ],
   "source": [
    "df[\"type_vehicule\"].value_counts()"
   ]
  },
  {
   "attachments": {},
   "cell_type": "markdown",
   "metadata": {},
   "source": [
    "## Roues_motrices"
   ]
  },
  {
   "cell_type": "code",
   "execution_count": 167,
   "metadata": {},
   "outputs": [
    {
     "data": {
      "text/plain": [
       "fwd    120\n",
       "rwd     76\n",
       "4wd      9\n",
       "Name: roues_motrices, dtype: int64"
      ]
     },
     "execution_count": 167,
     "metadata": {},
     "output_type": "execute_result"
    }
   ],
   "source": [
    "df[\"roues_motrices\"].value_counts()"
   ]
  },
  {
   "cell_type": "code",
   "execution_count": 168,
   "metadata": {},
   "outputs": [],
   "source": [
    "# Créer un dictionnaire pour les traductions des types de carrosserie\n",
    "traductions_roues_motrices = {\n",
    "    \"rwd\": \"propulsion\",\n",
    "    \"fwd\": \"traction\",\n",
    "    \"4wd\": \"quatre_roues_motrices\"\n",
    "}\n",
    "\n",
    "# Traduire les types de carrosserie dans la colonne \"type_vehicule\"\n",
    "df[\"roues_motrices\"] = df[\"roues_motrices\"].map(traductions_roues_motrices)"
   ]
  },
  {
   "cell_type": "code",
   "execution_count": 169,
   "metadata": {},
   "outputs": [
    {
     "data": {
      "text/plain": [
       "traction                 120\n",
       "propulsion                76\n",
       "quatre_roues_motrices      9\n",
       "Name: roues_motrices, dtype: int64"
      ]
     },
     "execution_count": 169,
     "metadata": {},
     "output_type": "execute_result"
    }
   ],
   "source": [
    "df[\"roues_motrices\"].value_counts()"
   ]
  },
  {
   "cell_type": "code",
   "execution_count": 170,
   "metadata": {},
   "outputs": [
    {
     "data": {
      "text/plain": [
       "car_ID                     0\n",
       "niveau_risque_assurance    0\n",
       "carburant                  0\n",
       "turbo                      0\n",
       "nombre_portes              0\n",
       "type_vehicule              0\n",
       "roues_motrices             0\n",
       "emplacement_moteur         0\n",
       "empattement(cm)            0\n",
       "longueur_voiture(cm)       0\n",
       "largeur_voiture(cm)        0\n",
       "hauteur_voiture(cm)        0\n",
       "poids_vehicule(kg)         0\n",
       "type_moteur                0\n",
       "nombre_cylindres           0\n",
       "taille_moteur              0\n",
       "systeme_carburant          0\n",
       "taux_alésage(cm)           0\n",
       "course_piston(cm)          0\n",
       "taux_compression           0\n",
       "chevaux                    0\n",
       "tour_moteur                0\n",
       "consommation_ville         0\n",
       "consommation_autoroute     0\n",
       "prix                       0\n",
       "marque                     0\n",
       "modele                     2\n",
       "dtype: int64"
      ]
     },
     "execution_count": 170,
     "metadata": {},
     "output_type": "execute_result"
    }
   ],
   "source": [
    "df.isnull().sum()"
   ]
  },
  {
   "cell_type": "code",
   "execution_count": 171,
   "metadata": {},
   "outputs": [
    {
     "data": {
      "text/plain": [
       "car_ID                     0\n",
       "niveau_risque_assurance    0\n",
       "carburant                  0\n",
       "turbo                      0\n",
       "nombre_portes              0\n",
       "type_vehicule              0\n",
       "roues_motrices             0\n",
       "emplacement_moteur         0\n",
       "empattement(cm)            0\n",
       "longueur_voiture(cm)       0\n",
       "largeur_voiture(cm)        0\n",
       "hauteur_voiture(cm)        0\n",
       "poids_vehicule(kg)         0\n",
       "type_moteur                0\n",
       "nombre_cylindres           0\n",
       "taille_moteur              0\n",
       "systeme_carburant          0\n",
       "taux_alésage(cm)           0\n",
       "course_piston(cm)          0\n",
       "taux_compression           0\n",
       "chevaux                    0\n",
       "tour_moteur                0\n",
       "consommation_ville         0\n",
       "consommation_autoroute     0\n",
       "prix                       0\n",
       "marque                     0\n",
       "modele                     2\n",
       "dtype: int64"
      ]
     },
     "execution_count": 171,
     "metadata": {},
     "output_type": "execute_result"
    }
   ],
   "source": [
    "df.isna().sum()"
   ]
  },
  {
   "cell_type": "code",
   "execution_count": 172,
   "metadata": {},
   "outputs": [
    {
     "data": {
      "text/html": [
       "<div>\n",
       "<style scoped>\n",
       "    .dataframe tbody tr th:only-of-type {\n",
       "        vertical-align: middle;\n",
       "    }\n",
       "\n",
       "    .dataframe tbody tr th {\n",
       "        vertical-align: top;\n",
       "    }\n",
       "\n",
       "    .dataframe thead th {\n",
       "        text-align: right;\n",
       "    }\n",
       "</style>\n",
       "<table border=\"1\" class=\"dataframe\">\n",
       "  <thead>\n",
       "    <tr style=\"text-align: right;\">\n",
       "      <th></th>\n",
       "      <th>car_ID</th>\n",
       "      <th>niveau_risque_assurance</th>\n",
       "      <th>carburant</th>\n",
       "      <th>turbo</th>\n",
       "      <th>nombre_portes</th>\n",
       "      <th>type_vehicule</th>\n",
       "      <th>roues_motrices</th>\n",
       "      <th>emplacement_moteur</th>\n",
       "      <th>empattement(cm)</th>\n",
       "      <th>longueur_voiture(cm)</th>\n",
       "      <th>largeur_voiture(cm)</th>\n",
       "      <th>hauteur_voiture(cm)</th>\n",
       "      <th>poids_vehicule(kg)</th>\n",
       "      <th>type_moteur</th>\n",
       "      <th>nombre_cylindres</th>\n",
       "      <th>taille_moteur</th>\n",
       "      <th>systeme_carburant</th>\n",
       "      <th>taux_alésage(cm)</th>\n",
       "      <th>course_piston(cm)</th>\n",
       "      <th>taux_compression</th>\n",
       "      <th>chevaux</th>\n",
       "      <th>tour_moteur</th>\n",
       "      <th>consommation_ville</th>\n",
       "      <th>consommation_autoroute</th>\n",
       "      <th>prix</th>\n",
       "      <th>marque</th>\n",
       "      <th>modele</th>\n",
       "    </tr>\n",
       "  </thead>\n",
       "  <tbody>\n",
       "  </tbody>\n",
       "</table>\n",
       "</div>"
      ],
      "text/plain": [
       "Empty DataFrame\n",
       "Columns: [car_ID, niveau_risque_assurance, carburant, turbo, nombre_portes, type_vehicule, roues_motrices, emplacement_moteur, empattement(cm), longueur_voiture(cm), largeur_voiture(cm), hauteur_voiture(cm), poids_vehicule(kg), type_moteur, nombre_cylindres, taille_moteur, systeme_carburant, taux_alésage(cm), course_piston(cm), taux_compression, chevaux, tour_moteur, consommation_ville, consommation_autoroute, prix, marque, modele]\n",
       "Index: []"
      ]
     },
     "execution_count": 172,
     "metadata": {},
     "output_type": "execute_result"
    }
   ],
   "source": [
    "# Suppression des lignes contenant des valeurs nulles\n",
    "df = df.dropna()\n",
    "# voir les lignes ou il y a une valeur null\n",
    "df[df.isnull().any(axis=1)]\n"
   ]
  },
  {
   "attachments": {},
   "cell_type": "markdown",
   "metadata": {},
   "source": [
    "## Conversion"
   ]
  },
  {
   "cell_type": "code",
   "execution_count": 173,
   "metadata": {},
   "outputs": [],
   "source": [
    "# Conversion pouces en centimètres\n",
    "df['empattement(cm)'] = round(df['empattement(cm)'] * 2.54, 1)\n",
    "df['longueur_voiture(cm)'] = round(df['longueur_voiture(cm)'] * 2.54, 1)\n",
    "df['largeur_voiture(cm)'] = round(df['largeur_voiture(cm)'] * 2.54, 1)\n",
    "df['hauteur_voiture(cm)'] = round(df['hauteur_voiture(cm)'] * 2.54, 1)\n",
    "df['taux_alésage(cm)'] = round(df['taux_alésage(cm)'] * 2.54, 1)\n",
    "df['course_piston(cm)'] = round(df['course_piston(cm)'] * 2.54, 1)"
   ]
  },
  {
   "cell_type": "code",
   "execution_count": 174,
   "metadata": {},
   "outputs": [],
   "source": [
    "# Conversion livres en kg\n",
    "df['poids_vehicule(kg)'] = round(df['poids_vehicule(kg)'] * 0.45359237, 1)"
   ]
  },
  {
   "cell_type": "code",
   "execution_count": 175,
   "metadata": {},
   "outputs": [],
   "source": [
    "# Convertir de miles par gallon en litres au 100 kilomètres\n",
    "df['consommation_ville'] = 235.215 / df['consommation_ville']\n",
    "df['consommation_autoroute'] = 235.215 / df['consommation_autoroute']\n",
    "df.rename(columns={'consommation_ville': 'consommation_ville(L/100km)', 'consommation_autoroute': 'consommation_autoroute(L/100km)'}, inplace=True)\n"
   ]
  },
  {
   "attachments": {},
   "cell_type": "markdown",
   "metadata": {},
   "source": [
    "## emplacement moteur"
   ]
  },
  {
   "cell_type": "code",
   "execution_count": 176,
   "metadata": {},
   "outputs": [],
   "source": [
    "# Créer un dictionnaire de correspondance entre les valeurs erronées et les valeurs correctes\n",
    "traductions_emplacement_moteur = {\n",
    "    'front': 'avant',\n",
    "    'rear': 'arriere'\n",
    "}\n",
    "\n",
    "# Remplacer les valeurs erronées par les valeurs correctes\n",
    "df['emplacement_moteur'] = df['emplacement_moteur'].replace(traductions_emplacement_moteur)"
   ]
  },
  {
   "attachments": {},
   "cell_type": "markdown",
   "metadata": {},
   "source": [
    "## Nom de marque"
   ]
  },
  {
   "cell_type": "code",
   "execution_count": 177,
   "metadata": {},
   "outputs": [],
   "source": [
    "# Créer un dictionnaire de correspondance entre les valeurs erronées et les valeurs correctes\n",
    "corrections_marques = {\n",
    "    'maxda': 'mazda',\n",
    "    'porcshce': 'porsche',\n",
    "    'toyouta': 'toyota',\n",
    "    'vokswagen': 'volkswagen',\n",
    "    'vw': 'volkswagen',\n",
    "    'Nissan': 'nissan',\n",
    "    'alfa-romero' : 'alfa-romeo'\n",
    "}\n",
    "\n",
    "# Remplacer les valeurs erronées par les valeurs correctes\n",
    "df['marque'] = df['marque'].replace(corrections_marques)"
   ]
  },
  {
   "cell_type": "code",
   "execution_count": 178,
   "metadata": {},
   "outputs": [
    {
     "data": {
      "text/html": [
       "<div>\n",
       "<style scoped>\n",
       "    .dataframe tbody tr th:only-of-type {\n",
       "        vertical-align: middle;\n",
       "    }\n",
       "\n",
       "    .dataframe tbody tr th {\n",
       "        vertical-align: top;\n",
       "    }\n",
       "\n",
       "    .dataframe thead th {\n",
       "        text-align: right;\n",
       "    }\n",
       "</style>\n",
       "<table border=\"1\" class=\"dataframe\">\n",
       "  <thead>\n",
       "    <tr style=\"text-align: right;\">\n",
       "      <th></th>\n",
       "      <th>car_ID</th>\n",
       "      <th>niveau_risque_assurance</th>\n",
       "      <th>carburant</th>\n",
       "      <th>turbo</th>\n",
       "      <th>nombre_portes</th>\n",
       "      <th>type_vehicule</th>\n",
       "      <th>roues_motrices</th>\n",
       "      <th>emplacement_moteur</th>\n",
       "      <th>empattement(cm)</th>\n",
       "      <th>longueur_voiture(cm)</th>\n",
       "      <th>largeur_voiture(cm)</th>\n",
       "      <th>hauteur_voiture(cm)</th>\n",
       "      <th>poids_vehicule(kg)</th>\n",
       "      <th>type_moteur</th>\n",
       "      <th>nombre_cylindres</th>\n",
       "      <th>taille_moteur</th>\n",
       "      <th>systeme_carburant</th>\n",
       "      <th>taux_alésage(cm)</th>\n",
       "      <th>course_piston(cm)</th>\n",
       "      <th>taux_compression</th>\n",
       "      <th>chevaux</th>\n",
       "      <th>tour_moteur</th>\n",
       "      <th>consommation_ville(L/100km)</th>\n",
       "      <th>consommation_autoroute(L/100km)</th>\n",
       "      <th>prix</th>\n",
       "      <th>marque</th>\n",
       "      <th>modele</th>\n",
       "    </tr>\n",
       "  </thead>\n",
       "  <tbody>\n",
       "    <tr>\n",
       "      <th>0</th>\n",
       "      <td>1</td>\n",
       "      <td>3</td>\n",
       "      <td>gas</td>\n",
       "      <td>std</td>\n",
       "      <td>two</td>\n",
       "      <td>décapotable</td>\n",
       "      <td>propulsion</td>\n",
       "      <td>avant</td>\n",
       "      <td>225.0</td>\n",
       "      <td>428.8</td>\n",
       "      <td>162.8</td>\n",
       "      <td>124.0</td>\n",
       "      <td>1155.8</td>\n",
       "      <td>dohc</td>\n",
       "      <td>four</td>\n",
       "      <td>130</td>\n",
       "      <td>mpfi</td>\n",
       "      <td>8.8</td>\n",
       "      <td>6.8</td>\n",
       "      <td>9.0</td>\n",
       "      <td>111</td>\n",
       "      <td>5000</td>\n",
       "      <td>11.200714</td>\n",
       "      <td>8.711667</td>\n",
       "      <td>13495.0</td>\n",
       "      <td>alfa-romeo</td>\n",
       "      <td>giulia</td>\n",
       "    </tr>\n",
       "    <tr>\n",
       "      <th>1</th>\n",
       "      <td>2</td>\n",
       "      <td>3</td>\n",
       "      <td>gas</td>\n",
       "      <td>std</td>\n",
       "      <td>two</td>\n",
       "      <td>décapotable</td>\n",
       "      <td>propulsion</td>\n",
       "      <td>avant</td>\n",
       "      <td>225.0</td>\n",
       "      <td>428.8</td>\n",
       "      <td>162.8</td>\n",
       "      <td>124.0</td>\n",
       "      <td>1155.8</td>\n",
       "      <td>dohc</td>\n",
       "      <td>four</td>\n",
       "      <td>130</td>\n",
       "      <td>mpfi</td>\n",
       "      <td>8.8</td>\n",
       "      <td>6.8</td>\n",
       "      <td>9.0</td>\n",
       "      <td>111</td>\n",
       "      <td>5000</td>\n",
       "      <td>11.200714</td>\n",
       "      <td>8.711667</td>\n",
       "      <td>16500.0</td>\n",
       "      <td>alfa-romeo</td>\n",
       "      <td>stelvio</td>\n",
       "    </tr>\n",
       "    <tr>\n",
       "      <th>2</th>\n",
       "      <td>3</td>\n",
       "      <td>1</td>\n",
       "      <td>gas</td>\n",
       "      <td>std</td>\n",
       "      <td>two</td>\n",
       "      <td>hayon</td>\n",
       "      <td>propulsion</td>\n",
       "      <td>avant</td>\n",
       "      <td>240.0</td>\n",
       "      <td>434.8</td>\n",
       "      <td>166.4</td>\n",
       "      <td>133.1</td>\n",
       "      <td>1280.5</td>\n",
       "      <td>ohcv</td>\n",
       "      <td>six</td>\n",
       "      <td>152</td>\n",
       "      <td>mpfi</td>\n",
       "      <td>6.8</td>\n",
       "      <td>8.8</td>\n",
       "      <td>9.0</td>\n",
       "      <td>154</td>\n",
       "      <td>5000</td>\n",
       "      <td>12.379737</td>\n",
       "      <td>9.046731</td>\n",
       "      <td>16500.0</td>\n",
       "      <td>alfa-romeo</td>\n",
       "      <td>Quadrifoglio</td>\n",
       "    </tr>\n",
       "    <tr>\n",
       "      <th>3</th>\n",
       "      <td>4</td>\n",
       "      <td>2</td>\n",
       "      <td>gas</td>\n",
       "      <td>std</td>\n",
       "      <td>four</td>\n",
       "      <td>berline</td>\n",
       "      <td>traction</td>\n",
       "      <td>avant</td>\n",
       "      <td>253.5</td>\n",
       "      <td>448.6</td>\n",
       "      <td>168.1</td>\n",
       "      <td>137.9</td>\n",
       "      <td>1060.0</td>\n",
       "      <td>ohc</td>\n",
       "      <td>four</td>\n",
       "      <td>109</td>\n",
       "      <td>mpfi</td>\n",
       "      <td>8.1</td>\n",
       "      <td>8.6</td>\n",
       "      <td>10.0</td>\n",
       "      <td>102</td>\n",
       "      <td>5500</td>\n",
       "      <td>9.800625</td>\n",
       "      <td>7.840500</td>\n",
       "      <td>13950.0</td>\n",
       "      <td>audi</td>\n",
       "      <td>100ls</td>\n",
       "    </tr>\n",
       "    <tr>\n",
       "      <th>4</th>\n",
       "      <td>5</td>\n",
       "      <td>2</td>\n",
       "      <td>gas</td>\n",
       "      <td>std</td>\n",
       "      <td>four</td>\n",
       "      <td>berline</td>\n",
       "      <td>quatre_roues_motrices</td>\n",
       "      <td>avant</td>\n",
       "      <td>252.5</td>\n",
       "      <td>448.6</td>\n",
       "      <td>168.7</td>\n",
       "      <td>137.9</td>\n",
       "      <td>1280.9</td>\n",
       "      <td>ohc</td>\n",
       "      <td>five</td>\n",
       "      <td>136</td>\n",
       "      <td>mpfi</td>\n",
       "      <td>8.1</td>\n",
       "      <td>8.6</td>\n",
       "      <td>8.0</td>\n",
       "      <td>115</td>\n",
       "      <td>5500</td>\n",
       "      <td>13.067500</td>\n",
       "      <td>10.691591</td>\n",
       "      <td>17450.0</td>\n",
       "      <td>audi</td>\n",
       "      <td>100ls</td>\n",
       "    </tr>\n",
       "    <tr>\n",
       "      <th>...</th>\n",
       "      <td>...</td>\n",
       "      <td>...</td>\n",
       "      <td>...</td>\n",
       "      <td>...</td>\n",
       "      <td>...</td>\n",
       "      <td>...</td>\n",
       "      <td>...</td>\n",
       "      <td>...</td>\n",
       "      <td>...</td>\n",
       "      <td>...</td>\n",
       "      <td>...</td>\n",
       "      <td>...</td>\n",
       "      <td>...</td>\n",
       "      <td>...</td>\n",
       "      <td>...</td>\n",
       "      <td>...</td>\n",
       "      <td>...</td>\n",
       "      <td>...</td>\n",
       "      <td>...</td>\n",
       "      <td>...</td>\n",
       "      <td>...</td>\n",
       "      <td>...</td>\n",
       "      <td>...</td>\n",
       "      <td>...</td>\n",
       "      <td>...</td>\n",
       "      <td>...</td>\n",
       "      <td>...</td>\n",
       "    </tr>\n",
       "    <tr>\n",
       "      <th>200</th>\n",
       "      <td>201</td>\n",
       "      <td>-1</td>\n",
       "      <td>gas</td>\n",
       "      <td>std</td>\n",
       "      <td>four</td>\n",
       "      <td>berline</td>\n",
       "      <td>propulsion</td>\n",
       "      <td>avant</td>\n",
       "      <td>277.1</td>\n",
       "      <td>479.6</td>\n",
       "      <td>175.0</td>\n",
       "      <td>141.0</td>\n",
       "      <td>1339.0</td>\n",
       "      <td>ohc</td>\n",
       "      <td>four</td>\n",
       "      <td>141</td>\n",
       "      <td>mpfi</td>\n",
       "      <td>9.6</td>\n",
       "      <td>8.0</td>\n",
       "      <td>9.5</td>\n",
       "      <td>114</td>\n",
       "      <td>5400</td>\n",
       "      <td>10.226739</td>\n",
       "      <td>8.400536</td>\n",
       "      <td>16845.0</td>\n",
       "      <td>volvo</td>\n",
       "      <td>145e(sw)</td>\n",
       "    </tr>\n",
       "    <tr>\n",
       "      <th>201</th>\n",
       "      <td>202</td>\n",
       "      <td>-1</td>\n",
       "      <td>gas</td>\n",
       "      <td>turbo</td>\n",
       "      <td>four</td>\n",
       "      <td>berline</td>\n",
       "      <td>propulsion</td>\n",
       "      <td>avant</td>\n",
       "      <td>277.1</td>\n",
       "      <td>479.6</td>\n",
       "      <td>174.8</td>\n",
       "      <td>141.0</td>\n",
       "      <td>1383.0</td>\n",
       "      <td>ohc</td>\n",
       "      <td>four</td>\n",
       "      <td>141</td>\n",
       "      <td>mpfi</td>\n",
       "      <td>9.6</td>\n",
       "      <td>8.0</td>\n",
       "      <td>8.7</td>\n",
       "      <td>160</td>\n",
       "      <td>5300</td>\n",
       "      <td>12.379737</td>\n",
       "      <td>9.408600</td>\n",
       "      <td>19045.0</td>\n",
       "      <td>volvo</td>\n",
       "      <td>144ea</td>\n",
       "    </tr>\n",
       "    <tr>\n",
       "      <th>202</th>\n",
       "      <td>203</td>\n",
       "      <td>-1</td>\n",
       "      <td>gas</td>\n",
       "      <td>std</td>\n",
       "      <td>four</td>\n",
       "      <td>berline</td>\n",
       "      <td>propulsion</td>\n",
       "      <td>avant</td>\n",
       "      <td>277.1</td>\n",
       "      <td>479.6</td>\n",
       "      <td>175.0</td>\n",
       "      <td>141.0</td>\n",
       "      <td>1366.2</td>\n",
       "      <td>ohcv</td>\n",
       "      <td>six</td>\n",
       "      <td>173</td>\n",
       "      <td>mpfi</td>\n",
       "      <td>9.1</td>\n",
       "      <td>7.3</td>\n",
       "      <td>8.8</td>\n",
       "      <td>134</td>\n",
       "      <td>5500</td>\n",
       "      <td>13.067500</td>\n",
       "      <td>10.226739</td>\n",
       "      <td>21485.0</td>\n",
       "      <td>volvo</td>\n",
       "      <td>244dl</td>\n",
       "    </tr>\n",
       "    <tr>\n",
       "      <th>203</th>\n",
       "      <td>204</td>\n",
       "      <td>-1</td>\n",
       "      <td>diesel</td>\n",
       "      <td>turbo</td>\n",
       "      <td>four</td>\n",
       "      <td>berline</td>\n",
       "      <td>propulsion</td>\n",
       "      <td>avant</td>\n",
       "      <td>277.1</td>\n",
       "      <td>479.6</td>\n",
       "      <td>175.0</td>\n",
       "      <td>141.0</td>\n",
       "      <td>1459.2</td>\n",
       "      <td>ohc</td>\n",
       "      <td>six</td>\n",
       "      <td>145</td>\n",
       "      <td>idi</td>\n",
       "      <td>7.6</td>\n",
       "      <td>8.6</td>\n",
       "      <td>23.0</td>\n",
       "      <td>106</td>\n",
       "      <td>4800</td>\n",
       "      <td>9.046731</td>\n",
       "      <td>8.711667</td>\n",
       "      <td>22470.0</td>\n",
       "      <td>volvo</td>\n",
       "      <td>246</td>\n",
       "    </tr>\n",
       "    <tr>\n",
       "      <th>204</th>\n",
       "      <td>205</td>\n",
       "      <td>-1</td>\n",
       "      <td>gas</td>\n",
       "      <td>turbo</td>\n",
       "      <td>four</td>\n",
       "      <td>berline</td>\n",
       "      <td>propulsion</td>\n",
       "      <td>avant</td>\n",
       "      <td>277.1</td>\n",
       "      <td>479.6</td>\n",
       "      <td>175.0</td>\n",
       "      <td>141.0</td>\n",
       "      <td>1388.9</td>\n",
       "      <td>ohc</td>\n",
       "      <td>four</td>\n",
       "      <td>141</td>\n",
       "      <td>mpfi</td>\n",
       "      <td>9.6</td>\n",
       "      <td>8.0</td>\n",
       "      <td>9.5</td>\n",
       "      <td>114</td>\n",
       "      <td>5400</td>\n",
       "      <td>12.379737</td>\n",
       "      <td>9.408600</td>\n",
       "      <td>22625.0</td>\n",
       "      <td>volvo</td>\n",
       "      <td>264gl</td>\n",
       "    </tr>\n",
       "  </tbody>\n",
       "</table>\n",
       "<p>203 rows × 27 columns</p>\n",
       "</div>"
      ],
      "text/plain": [
       "     car_ID  niveau_risque_assurance carburant  turbo nombre_portes  \\\n",
       "0         1                        3       gas    std           two   \n",
       "1         2                        3       gas    std           two   \n",
       "2         3                        1       gas    std           two   \n",
       "3         4                        2       gas    std          four   \n",
       "4         5                        2       gas    std          four   \n",
       "..      ...                      ...       ...    ...           ...   \n",
       "200     201                       -1       gas    std          four   \n",
       "201     202                       -1       gas  turbo          four   \n",
       "202     203                       -1       gas    std          four   \n",
       "203     204                       -1    diesel  turbo          four   \n",
       "204     205                       -1       gas  turbo          four   \n",
       "\n",
       "    type_vehicule         roues_motrices emplacement_moteur  empattement(cm)  \\\n",
       "0     décapotable             propulsion              avant            225.0   \n",
       "1     décapotable             propulsion              avant            225.0   \n",
       "2           hayon             propulsion              avant            240.0   \n",
       "3         berline               traction              avant            253.5   \n",
       "4         berline  quatre_roues_motrices              avant            252.5   \n",
       "..            ...                    ...                ...              ...   \n",
       "200       berline             propulsion              avant            277.1   \n",
       "201       berline             propulsion              avant            277.1   \n",
       "202       berline             propulsion              avant            277.1   \n",
       "203       berline             propulsion              avant            277.1   \n",
       "204       berline             propulsion              avant            277.1   \n",
       "\n",
       "     longueur_voiture(cm)  largeur_voiture(cm)  hauteur_voiture(cm)  \\\n",
       "0                   428.8                162.8                124.0   \n",
       "1                   428.8                162.8                124.0   \n",
       "2                   434.8                166.4                133.1   \n",
       "3                   448.6                168.1                137.9   \n",
       "4                   448.6                168.7                137.9   \n",
       "..                    ...                  ...                  ...   \n",
       "200                 479.6                175.0                141.0   \n",
       "201                 479.6                174.8                141.0   \n",
       "202                 479.6                175.0                141.0   \n",
       "203                 479.6                175.0                141.0   \n",
       "204                 479.6                175.0                141.0   \n",
       "\n",
       "     poids_vehicule(kg) type_moteur nombre_cylindres  taille_moteur  \\\n",
       "0                1155.8        dohc             four            130   \n",
       "1                1155.8        dohc             four            130   \n",
       "2                1280.5        ohcv              six            152   \n",
       "3                1060.0         ohc             four            109   \n",
       "4                1280.9         ohc             five            136   \n",
       "..                  ...         ...              ...            ...   \n",
       "200              1339.0         ohc             four            141   \n",
       "201              1383.0         ohc             four            141   \n",
       "202              1366.2        ohcv              six            173   \n",
       "203              1459.2         ohc              six            145   \n",
       "204              1388.9         ohc             four            141   \n",
       "\n",
       "    systeme_carburant  taux_alésage(cm)  course_piston(cm)  taux_compression  \\\n",
       "0                mpfi               8.8                6.8               9.0   \n",
       "1                mpfi               8.8                6.8               9.0   \n",
       "2                mpfi               6.8                8.8               9.0   \n",
       "3                mpfi               8.1                8.6              10.0   \n",
       "4                mpfi               8.1                8.6               8.0   \n",
       "..                ...               ...                ...               ...   \n",
       "200              mpfi               9.6                8.0               9.5   \n",
       "201              mpfi               9.6                8.0               8.7   \n",
       "202              mpfi               9.1                7.3               8.8   \n",
       "203               idi               7.6                8.6              23.0   \n",
       "204              mpfi               9.6                8.0               9.5   \n",
       "\n",
       "     chevaux  tour_moteur  consommation_ville(L/100km)  \\\n",
       "0        111         5000                    11.200714   \n",
       "1        111         5000                    11.200714   \n",
       "2        154         5000                    12.379737   \n",
       "3        102         5500                     9.800625   \n",
       "4        115         5500                    13.067500   \n",
       "..       ...          ...                          ...   \n",
       "200      114         5400                    10.226739   \n",
       "201      160         5300                    12.379737   \n",
       "202      134         5500                    13.067500   \n",
       "203      106         4800                     9.046731   \n",
       "204      114         5400                    12.379737   \n",
       "\n",
       "     consommation_autoroute(L/100km)     prix      marque        modele  \n",
       "0                           8.711667  13495.0  alfa-romeo        giulia  \n",
       "1                           8.711667  16500.0  alfa-romeo       stelvio  \n",
       "2                           9.046731  16500.0  alfa-romeo  Quadrifoglio  \n",
       "3                           7.840500  13950.0        audi         100ls  \n",
       "4                          10.691591  17450.0        audi         100ls  \n",
       "..                               ...      ...         ...           ...  \n",
       "200                         8.400536  16845.0       volvo      145e(sw)  \n",
       "201                         9.408600  19045.0       volvo         144ea  \n",
       "202                        10.226739  21485.0       volvo         244dl  \n",
       "203                         8.711667  22470.0       volvo           246  \n",
       "204                         9.408600  22625.0       volvo         264gl  \n",
       "\n",
       "[203 rows x 27 columns]"
      ]
     },
     "execution_count": 178,
     "metadata": {},
     "output_type": "execute_result"
    }
   ],
   "source": [
    "df"
   ]
  },
  {
   "cell_type": "code",
   "execution_count": 179,
   "metadata": {},
   "outputs": [],
   "source": [
    "df = df.drop(\"car_ID\", axis=1)"
   ]
  },
  {
   "cell_type": "code",
   "execution_count": 180,
   "metadata": {},
   "outputs": [
    {
     "data": {
      "text/html": [
       "<div>\n",
       "<style scoped>\n",
       "    .dataframe tbody tr th:only-of-type {\n",
       "        vertical-align: middle;\n",
       "    }\n",
       "\n",
       "    .dataframe tbody tr th {\n",
       "        vertical-align: top;\n",
       "    }\n",
       "\n",
       "    .dataframe thead th {\n",
       "        text-align: right;\n",
       "    }\n",
       "</style>\n",
       "<table border=\"1\" class=\"dataframe\">\n",
       "  <thead>\n",
       "    <tr style=\"text-align: right;\">\n",
       "      <th></th>\n",
       "      <th>niveau_risque_assurance</th>\n",
       "      <th>carburant</th>\n",
       "      <th>turbo</th>\n",
       "      <th>nombre_portes</th>\n",
       "      <th>type_vehicule</th>\n",
       "      <th>roues_motrices</th>\n",
       "      <th>emplacement_moteur</th>\n",
       "      <th>empattement(cm)</th>\n",
       "      <th>longueur_voiture(cm)</th>\n",
       "      <th>largeur_voiture(cm)</th>\n",
       "      <th>hauteur_voiture(cm)</th>\n",
       "      <th>poids_vehicule(kg)</th>\n",
       "      <th>type_moteur</th>\n",
       "      <th>nombre_cylindres</th>\n",
       "      <th>taille_moteur</th>\n",
       "      <th>systeme_carburant</th>\n",
       "      <th>taux_alésage(cm)</th>\n",
       "      <th>course_piston(cm)</th>\n",
       "      <th>taux_compression</th>\n",
       "      <th>chevaux</th>\n",
       "      <th>tour_moteur</th>\n",
       "      <th>consommation_ville(L/100km)</th>\n",
       "      <th>consommation_autoroute(L/100km)</th>\n",
       "      <th>prix</th>\n",
       "      <th>marque</th>\n",
       "      <th>modele</th>\n",
       "    </tr>\n",
       "  </thead>\n",
       "  <tbody>\n",
       "    <tr>\n",
       "      <th>0</th>\n",
       "      <td>3</td>\n",
       "      <td>gas</td>\n",
       "      <td>std</td>\n",
       "      <td>two</td>\n",
       "      <td>décapotable</td>\n",
       "      <td>propulsion</td>\n",
       "      <td>avant</td>\n",
       "      <td>225.0</td>\n",
       "      <td>428.8</td>\n",
       "      <td>162.8</td>\n",
       "      <td>124.0</td>\n",
       "      <td>1155.8</td>\n",
       "      <td>dohc</td>\n",
       "      <td>four</td>\n",
       "      <td>130</td>\n",
       "      <td>mpfi</td>\n",
       "      <td>8.8</td>\n",
       "      <td>6.8</td>\n",
       "      <td>9.0</td>\n",
       "      <td>111</td>\n",
       "      <td>5000</td>\n",
       "      <td>11.200714</td>\n",
       "      <td>8.711667</td>\n",
       "      <td>13495.0</td>\n",
       "      <td>alfa-romeo</td>\n",
       "      <td>giulia</td>\n",
       "    </tr>\n",
       "    <tr>\n",
       "      <th>1</th>\n",
       "      <td>3</td>\n",
       "      <td>gas</td>\n",
       "      <td>std</td>\n",
       "      <td>two</td>\n",
       "      <td>décapotable</td>\n",
       "      <td>propulsion</td>\n",
       "      <td>avant</td>\n",
       "      <td>225.0</td>\n",
       "      <td>428.8</td>\n",
       "      <td>162.8</td>\n",
       "      <td>124.0</td>\n",
       "      <td>1155.8</td>\n",
       "      <td>dohc</td>\n",
       "      <td>four</td>\n",
       "      <td>130</td>\n",
       "      <td>mpfi</td>\n",
       "      <td>8.8</td>\n",
       "      <td>6.8</td>\n",
       "      <td>9.0</td>\n",
       "      <td>111</td>\n",
       "      <td>5000</td>\n",
       "      <td>11.200714</td>\n",
       "      <td>8.711667</td>\n",
       "      <td>16500.0</td>\n",
       "      <td>alfa-romeo</td>\n",
       "      <td>stelvio</td>\n",
       "    </tr>\n",
       "    <tr>\n",
       "      <th>2</th>\n",
       "      <td>1</td>\n",
       "      <td>gas</td>\n",
       "      <td>std</td>\n",
       "      <td>two</td>\n",
       "      <td>hayon</td>\n",
       "      <td>propulsion</td>\n",
       "      <td>avant</td>\n",
       "      <td>240.0</td>\n",
       "      <td>434.8</td>\n",
       "      <td>166.4</td>\n",
       "      <td>133.1</td>\n",
       "      <td>1280.5</td>\n",
       "      <td>ohcv</td>\n",
       "      <td>six</td>\n",
       "      <td>152</td>\n",
       "      <td>mpfi</td>\n",
       "      <td>6.8</td>\n",
       "      <td>8.8</td>\n",
       "      <td>9.0</td>\n",
       "      <td>154</td>\n",
       "      <td>5000</td>\n",
       "      <td>12.379737</td>\n",
       "      <td>9.046731</td>\n",
       "      <td>16500.0</td>\n",
       "      <td>alfa-romeo</td>\n",
       "      <td>Quadrifoglio</td>\n",
       "    </tr>\n",
       "    <tr>\n",
       "      <th>3</th>\n",
       "      <td>2</td>\n",
       "      <td>gas</td>\n",
       "      <td>std</td>\n",
       "      <td>four</td>\n",
       "      <td>berline</td>\n",
       "      <td>traction</td>\n",
       "      <td>avant</td>\n",
       "      <td>253.5</td>\n",
       "      <td>448.6</td>\n",
       "      <td>168.1</td>\n",
       "      <td>137.9</td>\n",
       "      <td>1060.0</td>\n",
       "      <td>ohc</td>\n",
       "      <td>four</td>\n",
       "      <td>109</td>\n",
       "      <td>mpfi</td>\n",
       "      <td>8.1</td>\n",
       "      <td>8.6</td>\n",
       "      <td>10.0</td>\n",
       "      <td>102</td>\n",
       "      <td>5500</td>\n",
       "      <td>9.800625</td>\n",
       "      <td>7.840500</td>\n",
       "      <td>13950.0</td>\n",
       "      <td>audi</td>\n",
       "      <td>100ls</td>\n",
       "    </tr>\n",
       "    <tr>\n",
       "      <th>4</th>\n",
       "      <td>2</td>\n",
       "      <td>gas</td>\n",
       "      <td>std</td>\n",
       "      <td>four</td>\n",
       "      <td>berline</td>\n",
       "      <td>quatre_roues_motrices</td>\n",
       "      <td>avant</td>\n",
       "      <td>252.5</td>\n",
       "      <td>448.6</td>\n",
       "      <td>168.7</td>\n",
       "      <td>137.9</td>\n",
       "      <td>1280.9</td>\n",
       "      <td>ohc</td>\n",
       "      <td>five</td>\n",
       "      <td>136</td>\n",
       "      <td>mpfi</td>\n",
       "      <td>8.1</td>\n",
       "      <td>8.6</td>\n",
       "      <td>8.0</td>\n",
       "      <td>115</td>\n",
       "      <td>5500</td>\n",
       "      <td>13.067500</td>\n",
       "      <td>10.691591</td>\n",
       "      <td>17450.0</td>\n",
       "      <td>audi</td>\n",
       "      <td>100ls</td>\n",
       "    </tr>\n",
       "  </tbody>\n",
       "</table>\n",
       "</div>"
      ],
      "text/plain": [
       "   niveau_risque_assurance carburant turbo nombre_portes type_vehicule  \\\n",
       "0                        3       gas   std           two   décapotable   \n",
       "1                        3       gas   std           two   décapotable   \n",
       "2                        1       gas   std           two         hayon   \n",
       "3                        2       gas   std          four       berline   \n",
       "4                        2       gas   std          four       berline   \n",
       "\n",
       "          roues_motrices emplacement_moteur  empattement(cm)  \\\n",
       "0             propulsion              avant            225.0   \n",
       "1             propulsion              avant            225.0   \n",
       "2             propulsion              avant            240.0   \n",
       "3               traction              avant            253.5   \n",
       "4  quatre_roues_motrices              avant            252.5   \n",
       "\n",
       "   longueur_voiture(cm)  largeur_voiture(cm)  hauteur_voiture(cm)  \\\n",
       "0                 428.8                162.8                124.0   \n",
       "1                 428.8                162.8                124.0   \n",
       "2                 434.8                166.4                133.1   \n",
       "3                 448.6                168.1                137.9   \n",
       "4                 448.6                168.7                137.9   \n",
       "\n",
       "   poids_vehicule(kg) type_moteur nombre_cylindres  taille_moteur  \\\n",
       "0              1155.8        dohc             four            130   \n",
       "1              1155.8        dohc             four            130   \n",
       "2              1280.5        ohcv              six            152   \n",
       "3              1060.0         ohc             four            109   \n",
       "4              1280.9         ohc             five            136   \n",
       "\n",
       "  systeme_carburant  taux_alésage(cm)  course_piston(cm)  taux_compression  \\\n",
       "0              mpfi               8.8                6.8               9.0   \n",
       "1              mpfi               8.8                6.8               9.0   \n",
       "2              mpfi               6.8                8.8               9.0   \n",
       "3              mpfi               8.1                8.6              10.0   \n",
       "4              mpfi               8.1                8.6               8.0   \n",
       "\n",
       "   chevaux  tour_moteur  consommation_ville(L/100km)  \\\n",
       "0      111         5000                    11.200714   \n",
       "1      111         5000                    11.200714   \n",
       "2      154         5000                    12.379737   \n",
       "3      102         5500                     9.800625   \n",
       "4      115         5500                    13.067500   \n",
       "\n",
       "   consommation_autoroute(L/100km)     prix      marque        modele  \n",
       "0                         8.711667  13495.0  alfa-romeo        giulia  \n",
       "1                         8.711667  16500.0  alfa-romeo       stelvio  \n",
       "2                         9.046731  16500.0  alfa-romeo  Quadrifoglio  \n",
       "3                         7.840500  13950.0        audi         100ls  \n",
       "4                        10.691591  17450.0        audi         100ls  "
      ]
     },
     "execution_count": 180,
     "metadata": {},
     "output_type": "execute_result"
    }
   ],
   "source": [
    "df.head()"
   ]
  },
  {
   "cell_type": "code",
   "execution_count": 181,
   "metadata": {},
   "outputs": [],
   "source": [
    "df.to_csv(\"../data/carprice.csv\", index=False)\n"
   ]
  },
  {
   "attachments": {},
   "cell_type": "markdown",
   "metadata": {},
   "source": [
    "## Prix par rapport au type de vehicule"
   ]
  },
  {
   "cell_type": "code",
   "execution_count": 182,
   "metadata": {},
   "outputs": [
    {
     "data": {
      "text/plain": [
       "Text(0.5, 1.0, 'Prix par rapport au type de vehicule')"
      ]
     },
     "execution_count": 182,
     "metadata": {},
     "output_type": "execute_result"
    },
    {
     "data": {
      "image/png": "[encoded data removed]",
      "text/plain": [
       "<Figure size 640x480 with 1 Axes>"
      ]
     },
     "metadata": {},
     "output_type": "display_data"
    }
   ],
   "source": [
    "g = sns.barplot(data=df, x=\"type_vehicule\", y=\"prix\")\n",
    "g.set_xlabel(\"type vehicule\")\n",
    "g.set_ylabel(\"Prix\")\n",
    "g.set_title(\"Prix par rapport au type de vehicule\")"
   ]
  },
  {
   "attachments": {},
   "cell_type": "markdown",
   "metadata": {},
   "source": [
    "## Prix par rapport au carburant"
   ]
  },
  {
   "cell_type": "code",
   "execution_count": 183,
   "metadata": {},
   "outputs": [
    {
     "data": {
      "text/plain": [
       "Text(0.5, 1.0, 'Prix par rapport au carburant')"
      ]
     },
     "execution_count": 183,
     "metadata": {},
     "output_type": "execute_result"
    },
    {
     "data": {
      "image/png": "[encoded data removed]",
      "text/plain": [
       "<Figure size 640x480 with 1 Axes>"
      ]
     },
     "metadata": {},
     "output_type": "display_data"
    }
   ],
   "source": [
    "g = sns.barplot(data=df, x=\"carburant\", y=\"prix\")\n",
    "g.set_xlabel(\"carburant\")\n",
    "g.set_ylabel(\"Prix\")\n",
    "g.set_title(\"Prix par rapport au carburant\")"
   ]
  },
  {
   "attachments": {},
   "cell_type": "markdown",
   "metadata": {},
   "source": [
    "## prix par rapport au turbo"
   ]
  },
  {
   "cell_type": "code",
   "execution_count": 184,
   "metadata": {},
   "outputs": [
    {
     "data": {
      "text/plain": [
       "Text(0.5, 1.0, 'Prix par rapport au turbo')"
      ]
     },
     "execution_count": 184,
     "metadata": {},
     "output_type": "execute_result"
    },
    {
     "data": {
      "image/png": "[encoded data removed]",
      "text/plain": [
       "<Figure size 640x480 with 1 Axes>"
      ]
     },
     "metadata": {},
     "output_type": "display_data"
    }
   ],
   "source": [
    "g = sns.barplot(data=df, x=\"turbo\", y=\"prix\")\n",
    "g.set_xlabel(\"turbo\")\n",
    "g.set_ylabel(\"Prix\")\n",
    "g.set_title(\"Prix par rapport au turbo\")"
   ]
  },
  {
   "attachments": {},
   "cell_type": "markdown",
   "metadata": {},
   "source": [
    "## Prix par rapport au nombre de portes"
   ]
  },
  {
   "cell_type": "code",
   "execution_count": 185,
   "metadata": {},
   "outputs": [
    {
     "data": {
      "text/plain": [
       "Text(0.5, 1.0, 'Prix par rapport au nombre_portes')"
      ]
     },
     "execution_count": 185,
     "metadata": {},
     "output_type": "execute_result"
    },
    {
     "data": {
      "image/png": "[encoded data removed]",
      "text/plain": [
       "<Figure size 640x480 with 1 Axes>"
      ]
     },
     "metadata": {},
     "output_type": "display_data"
    }
   ],
   "source": [
    "g = sns.barplot(data=df, x=\"nombre_portes\", y=\"prix\")\n",
    "g.set_xlabel(\"nombre_portes\")\n",
    "g.set_ylabel(\"Prix\")\n",
    "g.set_title(\"Prix par rapport au nombre_portes\")"
   ]
  },
  {
   "attachments": {},
   "cell_type": "markdown",
   "metadata": {},
   "source": [
    "# Prix par rapport au roues_motrices"
   ]
  },
  {
   "cell_type": "code",
   "execution_count": 186,
   "metadata": {},
   "outputs": [
    {
     "data": {
      "text/plain": [
       "Text(0.5, 1.0, 'Prix par rapport au roues_motrices')"
      ]
     },
     "execution_count": 186,
     "metadata": {},
     "output_type": "execute_result"
    },
    {
     "data": {
      "image/png": "[encoded data removed]",
      "text/plain": [
       "<Figure size 640x480 with 1 Axes>"
      ]
     },
     "metadata": {},
     "output_type": "display_data"
    }
   ],
   "source": [
    "g = sns.barplot(data=df, x=\"roues_motrices\", y=\"prix\")\n",
    "g.set_xlabel(\"roues_motrices\")\n",
    "g.set_ylabel(\"Prix\")\n",
    "g.set_title(\"Prix par rapport au roues_motrices\")"
   ]
  },
  {
   "attachments": {},
   "cell_type": "markdown",
   "metadata": {},
   "source": [
    "## emplacement moteur"
   ]
  },
  {
   "cell_type": "code",
   "execution_count": 187,
   "metadata": {},
   "outputs": [
    {
     "data": {
      "text/plain": [
       "Text(0.5, 1.0, 'Prix par rapport au emplacement_moteur')"
      ]
     },
     "execution_count": 187,
     "metadata": {},
     "output_type": "execute_result"
    },
    {
     "data": {
      "image/png": "[encoded data removed]",
      "text/plain": [
       "<Figure size 640x480 with 1 Axes>"
      ]
     },
     "metadata": {},
     "output_type": "display_data"
    }
   ],
   "source": [
    "g = sns.barplot(data=df, x=\"emplacement_moteur\", y=\"prix\")\n",
    "g.set_xlabel(\"emplacement_moteur\")\n",
    "g.set_ylabel(\"Prix\")\n",
    "g.set_title(\"Prix par rapport au emplacement_moteur\")"
   ]
  },
  {
   "attachments": {},
   "cell_type": "markdown",
   "metadata": {},
   "source": [
    "## type moteur"
   ]
  },
  {
   "cell_type": "code",
   "execution_count": 188,
   "metadata": {},
   "outputs": [
    {
     "data": {
      "text/plain": [
       "Text(0.5, 1.0, 'Prix par rapport au type_moteur')"
      ]
     },
     "execution_count": 188,
     "metadata": {},
     "output_type": "execute_result"
    },
    {
     "data": {
      "image/png": "[encoded data removed]",
      "text/plain": [
       "<Figure size 640x480 with 1 Axes>"
      ]
     },
     "metadata": {},
     "output_type": "display_data"
    }
   ],
   "source": [
    "g = sns.barplot(data=df, x=\"type_moteur\", y=\"prix\")\n",
    "g.set_xlabel(\"type_moteur\")\n",
    "g.set_ylabel(\"Prix\")\n",
    "g.set_title(\"Prix par rapport au type_moteur\")"
   ]
  },
  {
   "cell_type": "code",
   "execution_count": 189,
   "metadata": {},
   "outputs": [
    {
     "data": {
      "text/plain": [
       "ohc      148\n",
       "ohcv      13\n",
       "ohcf      13\n",
       "dohc      12\n",
       "l         12\n",
       "rotor      4\n",
       "dohcv      1\n",
       "Name: type_moteur, dtype: int64"
      ]
     },
     "execution_count": 189,
     "metadata": {},
     "output_type": "execute_result"
    }
   ],
   "source": [
    "df[\"type_moteur\"].value_counts()"
   ]
  },
  {
   "attachments": {},
   "cell_type": "markdown",
   "metadata": {},
   "source": [
    "## nombre de cylindres"
   ]
  },
  {
   "cell_type": "code",
   "execution_count": 190,
   "metadata": {},
   "outputs": [
    {
     "data": {
      "text/plain": [
       "Text(0.5, 1.0, 'Prix par rapport au nombre_cylindres')"
      ]
     },
     "execution_count": 190,
     "metadata": {},
     "output_type": "execute_result"
    },
    {
     "data": {
      "image/png": "[encoded data removed]",
      "text/plain": [
       "<Figure size 640x480 with 1 Axes>"
      ]
     },
     "metadata": {},
     "output_type": "display_data"
    }
   ],
   "source": [
    "g = sns.barplot(data=df, x=\"nombre_cylindres\", y=\"prix\")\n",
    "g.set_xlabel(\"nombre_cylindres\")\n",
    "g.set_ylabel(\"Prix\")\n",
    "g.set_title(\"Prix par rapport au nombre_cylindres\")"
   ]
  },
  {
   "attachments": {},
   "cell_type": "markdown",
   "metadata": {},
   "source": [
    "## systeme carburant"
   ]
  },
  {
   "cell_type": "code",
   "execution_count": 191,
   "metadata": {},
   "outputs": [
    {
     "data": {
      "text/plain": [
       "Text(0.5, 1.0, 'Prix par rapport au systeme_carburant')"
      ]
     },
     "execution_count": 191,
     "metadata": {},
     "output_type": "execute_result"
    },
    {
     "data": {
      "image/png": "[encoded data removed]",
      "text/plain": [
       "<Figure size 640x480 with 1 Axes>"
      ]
     },
     "metadata": {},
     "output_type": "display_data"
    }
   ],
   "source": [
    "g = sns.barplot(data=df, x=\"systeme_carburant\", y=\"prix\")\n",
    "g.set_xlabel(\"systeme_carburant\")\n",
    "g.set_ylabel(\"Prix\")\n",
    "g.set_title(\"Prix par rapport au systeme_carburant\")"
   ]
  },
  {
   "cell_type": "code",
   "execution_count": 192,
   "metadata": {},
   "outputs": [
    {
     "data": {
      "text/plain": [
       "mpfi    94\n",
       "2bbl    64\n",
       "idi     20\n",
       "1bbl    11\n",
       "spdi     9\n",
       "4bbl     3\n",
       "mfi      1\n",
       "spfi     1\n",
       "Name: systeme_carburant, dtype: int64"
      ]
     },
     "execution_count": 192,
     "metadata": {},
     "output_type": "execute_result"
    }
   ],
   "source": [
    "df[\"systeme_carburant\"].value_counts()"
   ]
  },
  {
   "attachments": {},
   "cell_type": "markdown",
   "metadata": {},
   "source": [
    "## La marque"
   ]
  },
  {
   "cell_type": "code",
   "execution_count": 193,
   "metadata": {},
   "outputs": [
    {
     "data": {
      "text/plain": [
       "[Text(0, 0, 'alfa-romeo'),\n",
       " Text(1, 0, 'audi'),\n",
       " Text(2, 0, 'bmw'),\n",
       " Text(3, 0, 'chevrolet'),\n",
       " Text(4, 0, 'dodge'),\n",
       " Text(5, 0, 'honda'),\n",
       " Text(6, 0, 'isuzu'),\n",
       " Text(7, 0, 'jaguar'),\n",
       " Text(8, 0, 'mazda'),\n",
       " Text(9, 0, 'buick'),\n",
       " Text(10, 0, 'mercury'),\n",
       " Text(11, 0, 'mitsubishi'),\n",
       " Text(12, 0, 'nissan'),\n",
       " Text(13, 0, 'peugeot'),\n",
       " Text(14, 0, 'plymouth'),\n",
       " Text(15, 0, 'porsche'),\n",
       " Text(16, 0, 'renault'),\n",
       " Text(17, 0, 'saab'),\n",
       " Text(18, 0, 'subaru'),\n",
       " Text(19, 0, 'toyota'),\n",
       " Text(20, 0, 'volkswagen'),\n",
       " Text(21, 0, 'volvo')]"
      ]
     },
     "execution_count": 193,
     "metadata": {},
     "output_type": "execute_result"
    },
    {
     "data": {
      "image/png": "[encoded data removed]",
      "text/plain": [
       "<Figure size 640x480 with 1 Axes>"
      ]
     },
     "metadata": {},
     "output_type": "display_data"
    }
   ],
   "source": [
    "g = sns.barplot(data=df, x=\"marque\", y=\"prix\")\n",
    "g.set_xlabel(\"marque\")\n",
    "g.set_ylabel(\"Prix\")\n",
    "g.set_title(\"Prix par rapport au marque\")\n",
    "g.set_xticklabels(g.get_xticklabels(), rotation=90)\n"
   ]
  },
  {
   "attachments": {},
   "cell_type": "markdown",
   "metadata": {},
   "source": [
    "## Modele"
   ]
  },
  {
   "cell_type": "code",
   "execution_count": 194,
   "metadata": {},
   "outputs": [
    {
     "data": {
      "text/plain": [
       "[Text(0, 0, 'giulia'),\n",
       " Text(1, 0, 'stelvio'),\n",
       " Text(2, 0, 'Quadrifoglio'),\n",
       " Text(3, 0, '100ls'),\n",
       " Text(4, 0, 'fox'),\n",
       " Text(5, 0, '5000'),\n",
       " Text(6, 0, '4000'),\n",
       " Text(7, 0, '5000s(diesel)'),\n",
       " Text(8, 0, '320i'),\n",
       " Text(9, 0, 'x1'),\n",
       " Text(10, 0, 'x3'),\n",
       " Text(11, 0, 'z4'),\n",
       " Text(12, 0, 'x4'),\n",
       " Text(13, 0, 'x5'),\n",
       " Text(14, 0, 'impala'),\n",
       " Text(15, 0, 'montecarlo'),\n",
       " Text(16, 0, 'vega2300'),\n",
       " Text(17, 0, 'rampage'),\n",
       " Text(18, 0, 'challengerse'),\n",
       " Text(19, 0, 'd200'),\n",
       " Text(20, 0, 'monaco(sw)'),\n",
       " Text(21, 0, 'colthardtop'),\n",
       " Text(22, 0, 'colt(sw)'),\n",
       " Text(23, 0, 'coronetcustom'),\n",
       " Text(24, 0, 'dartcustom'),\n",
       " Text(25, 0, 'coronetcustom(sw)'),\n",
       " Text(26, 0, 'civic'),\n",
       " Text(27, 0, 'civiccvcc'),\n",
       " Text(28, 0, 'accordcvcc'),\n",
       " Text(29, 0, 'accordlx'),\n",
       " Text(30, 0, 'civic1500gl'),\n",
       " Text(31, 0, 'accord'),\n",
       " Text(32, 0, 'civic1300'),\n",
       " Text(33, 0, 'prelude'),\n",
       " Text(34, 0, 'civic(auto)'),\n",
       " Text(35, 0, 'MU-X'),\n",
       " Text(36, 0, 'D-Max'),\n",
       " Text(37, 0, 'D-MaxV-Cross'),\n",
       " Text(38, 0, 'xj'),\n",
       " Text(39, 0, 'xf'),\n",
       " Text(40, 0, 'xk'),\n",
       " Text(41, 0, 'rx3'),\n",
       " Text(42, 0, 'glcdeluxe'),\n",
       " Text(43, 0, 'rx2coupe'),\n",
       " Text(44, 0, 'rx-4'),\n",
       " Text(45, 0, '626'),\n",
       " Text(46, 0, 'glc'),\n",
       " Text(47, 0, 'rx-7gs'),\n",
       " Text(48, 0, 'glc4'),\n",
       " Text(49, 0, 'glccustoml'),\n",
       " Text(50, 0, 'glccustom'),\n",
       " Text(51, 0, 'electra225custom'),\n",
       " Text(52, 0, 'centuryluxus(sw)'),\n",
       " Text(53, 0, 'century'),\n",
       " Text(54, 0, 'skyhawk'),\n",
       " Text(55, 0, 'opelisuzudeluxe'),\n",
       " Text(56, 0, 'skylark'),\n",
       " Text(57, 0, 'centuryspecial'),\n",
       " Text(58, 0, 'regalsportcoupe(turbo)'),\n",
       " Text(59, 0, 'cougar'),\n",
       " Text(60, 0, 'mirage'),\n",
       " Text(61, 0, 'lancer'),\n",
       " Text(62, 0, 'outlander'),\n",
       " Text(63, 0, 'g4'),\n",
       " Text(64, 0, 'mirageg4'),\n",
       " Text(65, 0, 'montero'),\n",
       " Text(66, 0, 'pajero'),\n",
       " Text(67, 0, 'versa'),\n",
       " Text(68, 0, 'gt-r'),\n",
       " Text(69, 0, 'rogue'),\n",
       " Text(70, 0, 'latio'),\n",
       " Text(71, 0, 'titan'),\n",
       " Text(72, 0, 'leaf'),\n",
       " Text(73, 0, 'juke'),\n",
       " Text(74, 0, 'note'),\n",
       " Text(75, 0, 'clipper'),\n",
       " Text(76, 0, 'nv200'),\n",
       " Text(77, 0, 'dayz'),\n",
       " Text(78, 0, 'fuga'),\n",
       " Text(79, 0, 'otti'),\n",
       " Text(80, 0, 'teana'),\n",
       " Text(81, 0, 'kicks'),\n",
       " Text(82, 0, '504'),\n",
       " Text(83, 0, '304'),\n",
       " Text(84, 0, '504(sw)'),\n",
       " Text(85, 0, '604sl'),\n",
       " Text(86, 0, '505sturbodiesel'),\n",
       " Text(87, 0, 'furyiii'),\n",
       " Text(88, 0, 'cricket'),\n",
       " Text(89, 0, 'satellitecustom(sw)'),\n",
       " Text(90, 0, 'furygransedan'),\n",
       " Text(91, 0, 'valiant'),\n",
       " Text(92, 0, 'duster'),\n",
       " Text(93, 0, 'macan'),\n",
       " Text(94, 0, 'panamera'),\n",
       " Text(95, 0, 'cayenne'),\n",
       " Text(96, 0, 'boxter'),\n",
       " Text(97, 0, '12tl'),\n",
       " Text(98, 0, '5gtl'),\n",
       " Text(99, 0, '99e'),\n",
       " Text(100, 0, '99le'),\n",
       " Text(101, 0, '99gle'),\n",
       " Text(102, 0, 'dl'),\n",
       " Text(103, 0, 'brz'),\n",
       " Text(104, 0, 'baja'),\n",
       " Text(105, 0, 'r1'),\n",
       " Text(106, 0, 'r2'),\n",
       " Text(107, 0, 'trezia'),\n",
       " Text(108, 0, 'tribeca'),\n",
       " Text(109, 0, 'coronamarkii'),\n",
       " Text(110, 0, 'corona'),\n",
       " Text(111, 0, 'corolla1200'),\n",
       " Text(112, 0, 'coronahardtop'),\n",
       " Text(113, 0, 'corolla1600(sw)'),\n",
       " Text(114, 0, 'carina'),\n",
       " Text(115, 0, 'markii'),\n",
       " Text(116, 0, 'corolla'),\n",
       " Text(117, 0, 'corollaliftback'),\n",
       " Text(118, 0, 'celicagtliftback'),\n",
       " Text(119, 0, 'corollatercel'),\n",
       " Text(120, 0, 'coronaliftback'),\n",
       " Text(121, 0, 'starlet'),\n",
       " Text(122, 0, 'tercel'),\n",
       " Text(123, 0, 'cressida'),\n",
       " Text(124, 0, 'celicagt'),\n",
       " Text(125, 0, 'rabbit'),\n",
       " Text(126, 0, '1131deluxesedan'),\n",
       " Text(127, 0, 'model111'),\n",
       " Text(128, 0, 'type3'),\n",
       " Text(129, 0, '411(sw)'),\n",
       " Text(130, 0, 'superbeetle'),\n",
       " Text(131, 0, 'dasher'),\n",
       " Text(132, 0, 'rabbitcustom'),\n",
       " Text(133, 0, '145e(sw)'),\n",
       " Text(134, 0, '144ea'),\n",
       " Text(135, 0, '244dl'),\n",
       " Text(136, 0, '245'),\n",
       " Text(137, 0, '264gl'),\n",
       " Text(138, 0, 'diesel'),\n",
       " Text(139, 0, '246')]"
      ]
     },
     "execution_count": 194,
     "metadata": {},
     "output_type": "execute_result"
    },
    {
     "data": {
      "image/png": "[encoded data removed]",
      "text/plain": [
       "<Figure size 640x480 with 1 Axes>"
      ]
     },
     "metadata": {},
     "output_type": "display_data"
    }
   ],
   "source": [
    "g = sns.barplot(data=df, x=\"modele\", y=\"prix\")\n",
    "g.set_xlabel(\"modele\")\n",
    "g.set_ylabel(\"Prix\")\n",
    "g.set_title(\"Prix par rapport au modele\")\n",
    "g.set_xticklabels(g.get_xticklabels(), rotation=90)"
   ]
  },
  {
   "attachments": {},
   "cell_type": "markdown",
   "metadata": {},
   "source": [
    "## nouveau dataframe"
   ]
  },
  {
   "cell_type": "code",
   "execution_count": 200,
   "metadata": {},
   "outputs": [
    {
     "data": {
      "text/html": [
       "<div>\n",
       "<style scoped>\n",
       "    .dataframe tbody tr th:only-of-type {\n",
       "        vertical-align: middle;\n",
       "    }\n",
       "\n",
       "    .dataframe tbody tr th {\n",
       "        vertical-align: top;\n",
       "    }\n",
       "\n",
       "    .dataframe thead th {\n",
       "        text-align: right;\n",
       "    }\n",
       "</style>\n",
       "<table border=\"1\" class=\"dataframe\">\n",
       "  <thead>\n",
       "    <tr style=\"text-align: right;\">\n",
       "      <th></th>\n",
       "      <th>carburant</th>\n",
       "      <th>turbo</th>\n",
       "      <th>type_vehicule</th>\n",
       "      <th>roues_motrices</th>\n",
       "      <th>emplacement_moteur</th>\n",
       "      <th>longueur_voiture(cm)</th>\n",
       "      <th>largeur_voiture(cm)</th>\n",
       "      <th>poids_vehicule(kg)</th>\n",
       "      <th>type_moteur</th>\n",
       "      <th>nombre_cylindres</th>\n",
       "      <th>taille_moteur</th>\n",
       "      <th>systeme_carburant</th>\n",
       "      <th>chevaux</th>\n",
       "      <th>consommation_ville(L/100km)</th>\n",
       "      <th>consommation_autoroute(L/100km)</th>\n",
       "      <th>prix</th>\n",
       "      <th>marque</th>\n",
       "      <th>modele</th>\n",
       "    </tr>\n",
       "  </thead>\n",
       "  <tbody>\n",
       "    <tr>\n",
       "      <th>0</th>\n",
       "      <td>gas</td>\n",
       "      <td>std</td>\n",
       "      <td>décapotable</td>\n",
       "      <td>propulsion</td>\n",
       "      <td>avant</td>\n",
       "      <td>428.8</td>\n",
       "      <td>162.8</td>\n",
       "      <td>1155.8</td>\n",
       "      <td>dohc</td>\n",
       "      <td>four</td>\n",
       "      <td>130</td>\n",
       "      <td>mpfi</td>\n",
       "      <td>111</td>\n",
       "      <td>11.200714</td>\n",
       "      <td>8.711667</td>\n",
       "      <td>13495.0</td>\n",
       "      <td>alfa-romeo</td>\n",
       "      <td>giulia</td>\n",
       "    </tr>\n",
       "    <tr>\n",
       "      <th>1</th>\n",
       "      <td>gas</td>\n",
       "      <td>std</td>\n",
       "      <td>décapotable</td>\n",
       "      <td>propulsion</td>\n",
       "      <td>avant</td>\n",
       "      <td>428.8</td>\n",
       "      <td>162.8</td>\n",
       "      <td>1155.8</td>\n",
       "      <td>dohc</td>\n",
       "      <td>four</td>\n",
       "      <td>130</td>\n",
       "      <td>mpfi</td>\n",
       "      <td>111</td>\n",
       "      <td>11.200714</td>\n",
       "      <td>8.711667</td>\n",
       "      <td>16500.0</td>\n",
       "      <td>alfa-romeo</td>\n",
       "      <td>stelvio</td>\n",
       "    </tr>\n",
       "    <tr>\n",
       "      <th>2</th>\n",
       "      <td>gas</td>\n",
       "      <td>std</td>\n",
       "      <td>hayon</td>\n",
       "      <td>propulsion</td>\n",
       "      <td>avant</td>\n",
       "      <td>434.8</td>\n",
       "      <td>166.4</td>\n",
       "      <td>1280.5</td>\n",
       "      <td>ohcv</td>\n",
       "      <td>six</td>\n",
       "      <td>152</td>\n",
       "      <td>mpfi</td>\n",
       "      <td>154</td>\n",
       "      <td>12.379737</td>\n",
       "      <td>9.046731</td>\n",
       "      <td>16500.0</td>\n",
       "      <td>alfa-romeo</td>\n",
       "      <td>Quadrifoglio</td>\n",
       "    </tr>\n",
       "    <tr>\n",
       "      <th>3</th>\n",
       "      <td>gas</td>\n",
       "      <td>std</td>\n",
       "      <td>berline</td>\n",
       "      <td>traction</td>\n",
       "      <td>avant</td>\n",
       "      <td>448.6</td>\n",
       "      <td>168.1</td>\n",
       "      <td>1060.0</td>\n",
       "      <td>ohc</td>\n",
       "      <td>four</td>\n",
       "      <td>109</td>\n",
       "      <td>mpfi</td>\n",
       "      <td>102</td>\n",
       "      <td>9.800625</td>\n",
       "      <td>7.840500</td>\n",
       "      <td>13950.0</td>\n",
       "      <td>audi</td>\n",
       "      <td>100ls</td>\n",
       "    </tr>\n",
       "    <tr>\n",
       "      <th>4</th>\n",
       "      <td>gas</td>\n",
       "      <td>std</td>\n",
       "      <td>berline</td>\n",
       "      <td>quatre_roues_motrices</td>\n",
       "      <td>avant</td>\n",
       "      <td>448.6</td>\n",
       "      <td>168.7</td>\n",
       "      <td>1280.9</td>\n",
       "      <td>ohc</td>\n",
       "      <td>five</td>\n",
       "      <td>136</td>\n",
       "      <td>mpfi</td>\n",
       "      <td>115</td>\n",
       "      <td>13.067500</td>\n",
       "      <td>10.691591</td>\n",
       "      <td>17450.0</td>\n",
       "      <td>audi</td>\n",
       "      <td>100ls</td>\n",
       "    </tr>\n",
       "  </tbody>\n",
       "</table>\n",
       "</div>"
      ],
      "text/plain": [
       "  carburant turbo type_vehicule         roues_motrices emplacement_moteur  \\\n",
       "0       gas   std   décapotable             propulsion              avant   \n",
       "1       gas   std   décapotable             propulsion              avant   \n",
       "2       gas   std         hayon             propulsion              avant   \n",
       "3       gas   std       berline               traction              avant   \n",
       "4       gas   std       berline  quatre_roues_motrices              avant   \n",
       "\n",
       "   longueur_voiture(cm)  largeur_voiture(cm)  poids_vehicule(kg) type_moteur  \\\n",
       "0                 428.8                162.8              1155.8        dohc   \n",
       "1                 428.8                162.8              1155.8        dohc   \n",
       "2                 434.8                166.4              1280.5        ohcv   \n",
       "3                 448.6                168.1              1060.0         ohc   \n",
       "4                 448.6                168.7              1280.9         ohc   \n",
       "\n",
       "  nombre_cylindres  taille_moteur systeme_carburant  chevaux  \\\n",
       "0             four            130              mpfi      111   \n",
       "1             four            130              mpfi      111   \n",
       "2              six            152              mpfi      154   \n",
       "3             four            109              mpfi      102   \n",
       "4             five            136              mpfi      115   \n",
       "\n",
       "   consommation_ville(L/100km)  consommation_autoroute(L/100km)     prix  \\\n",
       "0                    11.200714                         8.711667  13495.0   \n",
       "1                    11.200714                         8.711667  16500.0   \n",
       "2                    12.379737                         9.046731  16500.0   \n",
       "3                     9.800625                         7.840500  13950.0   \n",
       "4                    13.067500                        10.691591  17450.0   \n",
       "\n",
       "       marque        modele  \n",
       "0  alfa-romeo        giulia  \n",
       "1  alfa-romeo       stelvio  \n",
       "2  alfa-romeo  Quadrifoglio  \n",
       "3        audi         100ls  \n",
       "4        audi         100ls  "
      ]
     },
     "execution_count": 200,
     "metadata": {},
     "output_type": "execute_result"
    }
   ],
   "source": [
    "df_clean = df.drop(columns=['empattement(cm)', 'taux_alésage(cm)', 'hauteur_voiture(cm)', 'taux_compression', 'course_piston(cm)', 'niveau_risque_assurance', 'tour_moteur', 'nombre_portes'])\n",
    "df_clean.head()"
   ]
  },
  {
   "cell_type": "code",
   "execution_count": 202,
   "metadata": {},
   "outputs": [],
   "source": [
    "df_clean.to_csv('../data/carprice_clean.csv', index=False)\n"
   ]
  }
 ],
 "metadata": {
  "kernelspec": {
   "display_name": "ml_env",
   "language": "python",
   "name": "python3"
  },
  "language_info": {
   "codemirror_mode": {
    "name": "ipython",
    "version": 3
   },
   "file_extension": ".py",
   "mimetype": "text/x-python",
   "name": "python",
   "nbconvert_exporter": "python",
   "pygments_lexer": "ipython3",
   "version": "3.11.3"
  },
  "orig_nbformat": 4
 },
 "nbformat": 4,
 "nbformat_minor": 2
}
