{
 "cells": [
  {
   "cell_type": "code",
   "execution_count": 1,
   "metadata": {},
   "outputs": [],
   "source": [
    "import pandas as pd\n",
    "import seaborn as sns\n",
    "import matplotlib.pyplot as plt\n",
    "from ydata_profiling import ProfileReport"
   ]
  },
  {
   "cell_type": "code",
   "execution_count": 2,
   "metadata": {},
   "outputs": [],
   "source": [
    "df = pd.read_csv(\"../data/carprice.csv\")"
   ]
  },
  {
   "cell_type": "code",
   "execution_count": 3,
   "metadata": {},
   "outputs": [],
   "source": [
    "profile = ProfileReport(df, title=\"Profiling Report\")"
   ]
  },
  {
   "cell_type": "code",
   "execution_count": 4,
   "metadata": {},
   "outputs": [
    {
     "data": {
      "application/vnd.jupyter.widget-view+json": {
       "model_id": "fcab4ef3389f40bd8880294859681f77",
       "version_major": 2,
       "version_minor": 0
      },
      "text/plain": [
       "Summarize dataset:   0%|          | 0/5 [00:00<?, ?it/s]"
      ]
     },
     "metadata": {},
     "output_type": "display_data"
    },
    {
     "data": {
      "application/vnd.jupyter.widget-view+json": {
       "model_id": "c3d71da01275440fa03f8507e54f15e3",
       "version_major": 2,
       "version_minor": 0
      },
      "text/plain": [
       "Generate report structure:   0%|          | 0/1 [00:00<?, ?it/s]"
      ]
     },
     "metadata": {},
     "output_type": "display_data"
    },
    {
     "data": {
      "application/vnd.jupyter.widget-view+json": {
       "model_id": "bf9be738ca6e45cf8daff6d48c2780bc",
       "version_major": 2,
       "version_minor": 0
      },
      "text/plain": [
       "Render HTML:   0%|          | 0/1 [00:00<?, ?it/s]"
      ]
     },
     "metadata": {},
     "output_type": "display_data"
    },
    {
     "data": {
      "application/vnd.jupyter.widget-view+json": {
       "model_id": "b4f7a5a36154476a95b9e6c29154190c",
       "version_major": 2,
       "version_minor": 0
      },
      "text/plain": [
       "Export report to file:   0%|          | 0/1 [00:00<?, ?it/s]"
      ]
     },
     "metadata": {},
     "output_type": "display_data"
    }
   ],
   "source": [
    "profile.to_file(\"report.html\")"
   ]
  },
  {
   "cell_type": "code",
   "execution_count": 5,
   "metadata": {},
   "outputs": [
    {
     "name": "stderr",
     "output_type": "stream",
     "text": [
      "/tmp/ipykernel_5558/734790020.py:2: FutureWarning: The default value of numeric_only in DataFrame.corr is deprecated. In a future version, it will default to False. Select only valid columns or specify the value of numeric_only to silence this warning.\n",
      "  corr_matrix = df.corr()[\"prix\"].sort_values(ascending=False)\n"
     ]
    },
    {
     "data": {
      "text/plain": [
       "prix                               1.000000\n",
       "taille_moteur                      0.873886\n",
       "poids_vehicule(kg)                 0.833998\n",
       "chevaux                            0.806986\n",
       "consommation_autoroute(L/100km)    0.789543\n",
       "consommation_ville(L/100km)        0.786847\n",
       "largeur_voiture(cm)                0.758177\n",
       "longueur_voiture(cm)               0.681320\n",
       "empattement(cm)                    0.576001\n",
       "taux_alésage(cm)                   0.568519\n",
       "hauteur_voiture(cm)                0.117971\n",
       "taux_compression                   0.066200\n",
       "course_piston(cm)                  0.059687\n",
       "niveau_risque_assurance           -0.078380\n",
       "tour_moteur                       -0.090774\n",
       "Name: prix, dtype: float64"
      ]
     },
     "execution_count": 5,
     "metadata": {},
     "output_type": "execute_result"
    }
   ],
   "source": [
    "# calculer la corrélation par rapport au prix\n",
    "corr_matrix = df.corr()[\"prix\"].sort_values(ascending=False)\n",
    "corr_matrix"
   ]
  },
  {
   "cell_type": "code",
   "execution_count": 6,
   "metadata": {},
   "outputs": [
    {
     "data": {
      "text/html": [
       "<div>\n",
       "<style scoped>\n",
       "    .dataframe tbody tr th:only-of-type {\n",
       "        vertical-align: middle;\n",
       "    }\n",
       "\n",
       "    .dataframe tbody tr th {\n",
       "        vertical-align: top;\n",
       "    }\n",
       "\n",
       "    .dataframe thead th {\n",
       "        text-align: right;\n",
       "    }\n",
       "</style>\n",
       "<table border=\"1\" class=\"dataframe\">\n",
       "  <thead>\n",
       "    <tr style=\"text-align: right;\">\n",
       "      <th></th>\n",
       "      <th>niveau_risque_assurance</th>\n",
       "      <th>carburant</th>\n",
       "      <th>turbo</th>\n",
       "      <th>nombre_portes</th>\n",
       "      <th>type_vehicule</th>\n",
       "      <th>roues_motrices</th>\n",
       "      <th>emplacement_moteur</th>\n",
       "      <th>empattement(cm)</th>\n",
       "      <th>longueur_voiture(cm)</th>\n",
       "      <th>largeur_voiture(cm)</th>\n",
       "      <th>...</th>\n",
       "      <th>taux_alésage(cm)</th>\n",
       "      <th>course_piston(cm)</th>\n",
       "      <th>taux_compression</th>\n",
       "      <th>chevaux</th>\n",
       "      <th>tour_moteur</th>\n",
       "      <th>consommation_ville(L/100km)</th>\n",
       "      <th>consommation_autoroute(L/100km)</th>\n",
       "      <th>prix</th>\n",
       "      <th>marque</th>\n",
       "      <th>modele</th>\n",
       "    </tr>\n",
       "  </thead>\n",
       "  <tbody>\n",
       "    <tr>\n",
       "      <th>0</th>\n",
       "      <td>3</td>\n",
       "      <td>gas</td>\n",
       "      <td>std</td>\n",
       "      <td>two</td>\n",
       "      <td>décapotable</td>\n",
       "      <td>propulsion</td>\n",
       "      <td>avant</td>\n",
       "      <td>225.04</td>\n",
       "      <td>428.75</td>\n",
       "      <td>162.81</td>\n",
       "      <td>...</td>\n",
       "      <td>8.81</td>\n",
       "      <td>6.81</td>\n",
       "      <td>9.0</td>\n",
       "      <td>111</td>\n",
       "      <td>5000</td>\n",
       "      <td>11.20</td>\n",
       "      <td>8.71</td>\n",
       "      <td>13495.0</td>\n",
       "      <td>alfa-romeo</td>\n",
       "      <td>giulia</td>\n",
       "    </tr>\n",
       "    <tr>\n",
       "      <th>1</th>\n",
       "      <td>3</td>\n",
       "      <td>gas</td>\n",
       "      <td>std</td>\n",
       "      <td>two</td>\n",
       "      <td>décapotable</td>\n",
       "      <td>propulsion</td>\n",
       "      <td>avant</td>\n",
       "      <td>225.04</td>\n",
       "      <td>428.75</td>\n",
       "      <td>162.81</td>\n",
       "      <td>...</td>\n",
       "      <td>8.81</td>\n",
       "      <td>6.81</td>\n",
       "      <td>9.0</td>\n",
       "      <td>111</td>\n",
       "      <td>5000</td>\n",
       "      <td>11.20</td>\n",
       "      <td>8.71</td>\n",
       "      <td>16500.0</td>\n",
       "      <td>alfa-romeo</td>\n",
       "      <td>stelvio</td>\n",
       "    </tr>\n",
       "    <tr>\n",
       "      <th>2</th>\n",
       "      <td>1</td>\n",
       "      <td>gas</td>\n",
       "      <td>std</td>\n",
       "      <td>two</td>\n",
       "      <td>hayon</td>\n",
       "      <td>propulsion</td>\n",
       "      <td>avant</td>\n",
       "      <td>240.03</td>\n",
       "      <td>434.85</td>\n",
       "      <td>166.37</td>\n",
       "      <td>...</td>\n",
       "      <td>6.81</td>\n",
       "      <td>8.81</td>\n",
       "      <td>9.0</td>\n",
       "      <td>154</td>\n",
       "      <td>5000</td>\n",
       "      <td>12.38</td>\n",
       "      <td>9.05</td>\n",
       "      <td>16500.0</td>\n",
       "      <td>alfa-romeo</td>\n",
       "      <td>Quadrifoglio</td>\n",
       "    </tr>\n",
       "    <tr>\n",
       "      <th>3</th>\n",
       "      <td>2</td>\n",
       "      <td>gas</td>\n",
       "      <td>std</td>\n",
       "      <td>four</td>\n",
       "      <td>berline</td>\n",
       "      <td>traction</td>\n",
       "      <td>avant</td>\n",
       "      <td>253.49</td>\n",
       "      <td>448.56</td>\n",
       "      <td>168.15</td>\n",
       "      <td>...</td>\n",
       "      <td>8.10</td>\n",
       "      <td>8.64</td>\n",
       "      <td>10.0</td>\n",
       "      <td>102</td>\n",
       "      <td>5500</td>\n",
       "      <td>9.80</td>\n",
       "      <td>7.84</td>\n",
       "      <td>13950.0</td>\n",
       "      <td>audi</td>\n",
       "      <td>100ls</td>\n",
       "    </tr>\n",
       "    <tr>\n",
       "      <th>4</th>\n",
       "      <td>2</td>\n",
       "      <td>gas</td>\n",
       "      <td>std</td>\n",
       "      <td>four</td>\n",
       "      <td>berline</td>\n",
       "      <td>quatre_roues_motrices</td>\n",
       "      <td>avant</td>\n",
       "      <td>252.48</td>\n",
       "      <td>448.56</td>\n",
       "      <td>168.66</td>\n",
       "      <td>...</td>\n",
       "      <td>8.10</td>\n",
       "      <td>8.64</td>\n",
       "      <td>8.0</td>\n",
       "      <td>115</td>\n",
       "      <td>5500</td>\n",
       "      <td>13.07</td>\n",
       "      <td>10.69</td>\n",
       "      <td>17450.0</td>\n",
       "      <td>audi</td>\n",
       "      <td>100ls</td>\n",
       "    </tr>\n",
       "  </tbody>\n",
       "</table>\n",
       "<p>5 rows × 26 columns</p>\n",
       "</div>"
      ],
      "text/plain": [
       "   niveau_risque_assurance carburant turbo nombre_portes type_vehicule  \\\n",
       "0                        3       gas   std           two   décapotable   \n",
       "1                        3       gas   std           two   décapotable   \n",
       "2                        1       gas   std           two         hayon   \n",
       "3                        2       gas   std          four       berline   \n",
       "4                        2       gas   std          four       berline   \n",
       "\n",
       "          roues_motrices emplacement_moteur  empattement(cm)  \\\n",
       "0             propulsion              avant           225.04   \n",
       "1             propulsion              avant           225.04   \n",
       "2             propulsion              avant           240.03   \n",
       "3               traction              avant           253.49   \n",
       "4  quatre_roues_motrices              avant           252.48   \n",
       "\n",
       "   longueur_voiture(cm)  largeur_voiture(cm)  ...  taux_alésage(cm)  \\\n",
       "0                428.75               162.81  ...              8.81   \n",
       "1                428.75               162.81  ...              8.81   \n",
       "2                434.85               166.37  ...              6.81   \n",
       "3                448.56               168.15  ...              8.10   \n",
       "4                448.56               168.66  ...              8.10   \n",
       "\n",
       "   course_piston(cm) taux_compression chevaux  tour_moteur  \\\n",
       "0               6.81              9.0     111         5000   \n",
       "1               6.81              9.0     111         5000   \n",
       "2               8.81              9.0     154         5000   \n",
       "3               8.64             10.0     102         5500   \n",
       "4               8.64              8.0     115         5500   \n",
       "\n",
       "  consommation_ville(L/100km)  consommation_autoroute(L/100km)     prix  \\\n",
       "0                       11.20                             8.71  13495.0   \n",
       "1                       11.20                             8.71  16500.0   \n",
       "2                       12.38                             9.05  16500.0   \n",
       "3                        9.80                             7.84  13950.0   \n",
       "4                       13.07                            10.69  17450.0   \n",
       "\n",
       "       marque        modele  \n",
       "0  alfa-romeo        giulia  \n",
       "1  alfa-romeo       stelvio  \n",
       "2  alfa-romeo  Quadrifoglio  \n",
       "3        audi         100ls  \n",
       "4        audi         100ls  \n",
       "\n",
       "[5 rows x 26 columns]"
      ]
     },
     "execution_count": 6,
     "metadata": {},
     "output_type": "execute_result"
    }
   ],
   "source": [
    "df.head()"
   ]
  }
 ],
 "metadata": {
  "kernelspec": {
   "display_name": "ml_env",
   "language": "python",
   "name": "python3"
  },
  "language_info": {
   "codemirror_mode": {
    "name": "ipython",
    "version": 3
   },
   "file_extension": ".py",
   "mimetype": "text/x-python",
   "name": "python",
   "nbconvert_exporter": "python",
   "pygments_lexer": "ipython3",
   "version": "3.11.3"
  },
  "orig_nbformat": 4
 },
 "nbformat": 4,
 "nbformat_minor": 2
}
