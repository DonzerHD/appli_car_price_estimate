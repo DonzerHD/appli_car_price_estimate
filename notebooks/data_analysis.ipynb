{
 "cells": [
  {
   "cell_type": "code",
   "execution_count": 51,
   "metadata": {},
   "outputs": [],
   "source": [
    "import pandas as pd\n",
    "import seaborn as sns\n",
    "import matplotlib.pyplot as plt\n",
    "from ydata_profiling import ProfileReport"
   ]
  },
  {
   "cell_type": "code",
   "execution_count": 52,
   "metadata": {},
   "outputs": [],
   "source": [
    "df = pd.read_csv(\"../data/carprice.csv\")"
   ]
  },
  {
   "cell_type": "code",
   "execution_count": 53,
   "metadata": {},
   "outputs": [],
   "source": [
    "profile = ProfileReport(df, title=\"Profiling Report\")"
   ]
  },
  {
   "cell_type": "code",
   "execution_count": 54,
   "metadata": {},
   "outputs": [
    {
     "data": {
      "application/vnd.jupyter.widget-view+json": {
       "model_id": "9a498c5cf46a4c6ab8c7f34fd5e4b3a7",
       "version_major": 2,
       "version_minor": 0
      },
      "text/plain": [
       "Summarize dataset:   0%|          | 0/5 [00:00<?, ?it/s]"
      ]
     },
     "metadata": {},
     "output_type": "display_data"
    },
    {
     "data": {
      "application/vnd.jupyter.widget-view+json": {
       "model_id": "c62c08b2927244bb9757b1abe996b5e9",
       "version_major": 2,
       "version_minor": 0
      },
      "text/plain": [
       "Generate report structure:   0%|          | 0/1 [00:00<?, ?it/s]"
      ]
     },
     "metadata": {},
     "output_type": "display_data"
    },
    {
     "data": {
      "application/vnd.jupyter.widget-view+json": {
       "model_id": "1d948199dcc141589d3ab6acd99de6e6",
       "version_major": 2,
       "version_minor": 0
      },
      "text/plain": [
       "Render HTML:   0%|          | 0/1 [00:00<?, ?it/s]"
      ]
     },
     "metadata": {},
     "output_type": "display_data"
    },
    {
     "data": {
      "application/vnd.jupyter.widget-view+json": {
       "model_id": "9458143c4c6848ffbe949eec40705ce6",
       "version_major": 2,
       "version_minor": 0
      },
      "text/plain": [
       "Export report to file:   0%|          | 0/1 [00:00<?, ?it/s]"
      ]
     },
     "metadata": {},
     "output_type": "display_data"
    }
   ],
   "source": [
    "profile.to_file(\"report.html\")"
   ]
  },
  {
   "cell_type": "code",
   "execution_count": 55,
   "metadata": {},
   "outputs": [
    {
     "name": "stderr",
     "output_type": "stream",
     "text": [
      "/tmp/ipykernel_7681/734790020.py:2: FutureWarning: The default value of numeric_only in DataFrame.corr is deprecated. In a future version, it will default to False. Select only valid columns or specify the value of numeric_only to silence this warning.\n",
      "  corr_matrix = df.corr()[\"prix\"].sort_values(ascending=False)\n"
     ]
    },
    {
     "data": {
      "text/plain": [
       "prix                               1.000000\n",
       "taille_moteur                      0.873886\n",
       "poids_vehicule(kg)                 0.833998\n",
       "chevaux                            0.806986\n",
       "consommation_autoroute(L/100km)    0.789568\n",
       "consommation_ville(L/100km)        0.786919\n",
       "largeur_voiture(cm)                0.758474\n",
       "longueur_voiture(cm)               0.681419\n",
       "empattement(cm)                    0.575801\n",
       "taux_alésage(cm)                   0.571118\n",
       "hauteur_voiture(cm)                0.118343\n",
       "taux_compression                   0.066200\n",
       "course_piston(cm)                  0.056021\n",
       "niveau_risque_assurance           -0.078380\n",
       "tour_moteur                       -0.090774\n",
       "car_ID                            -0.104148\n",
       "Name: prix, dtype: float64"
      ]
     },
     "execution_count": 55,
     "metadata": {},
     "output_type": "execute_result"
    }
   ],
   "source": [
    "# calculer la corrélation\n",
    "corr_matrix = df.corr()[\"prix\"].sort_values(ascending=False)\n",
    "corr_matrix"
   ]
  },
  {
   "cell_type": "code",
   "execution_count": 56,
   "metadata": {},
   "outputs": [
    {
     "data": {
      "text/html": [
       "<div>\n",
       "<style scoped>\n",
       "    .dataframe tbody tr th:only-of-type {\n",
       "        vertical-align: middle;\n",
       "    }\n",
       "\n",
       "    .dataframe tbody tr th {\n",
       "        vertical-align: top;\n",
       "    }\n",
       "\n",
       "    .dataframe thead th {\n",
       "        text-align: right;\n",
       "    }\n",
       "</style>\n",
       "<table border=\"1\" class=\"dataframe\">\n",
       "  <thead>\n",
       "    <tr style=\"text-align: right;\">\n",
       "      <th></th>\n",
       "      <th>car_ID</th>\n",
       "      <th>niveau_risque_assurance</th>\n",
       "      <th>carburant</th>\n",
       "      <th>turbo</th>\n",
       "      <th>nombre_portes</th>\n",
       "      <th>type_vehicule</th>\n",
       "      <th>roues_motrices</th>\n",
       "      <th>emplacement_moteur</th>\n",
       "      <th>empattement(cm)</th>\n",
       "      <th>longueur_voiture(cm)</th>\n",
       "      <th>...</th>\n",
       "      <th>taux_alésage(cm)</th>\n",
       "      <th>course_piston(cm)</th>\n",
       "      <th>taux_compression</th>\n",
       "      <th>chevaux</th>\n",
       "      <th>tour_moteur</th>\n",
       "      <th>consommation_ville(L/100km)</th>\n",
       "      <th>consommation_autoroute(L/100km)</th>\n",
       "      <th>prix</th>\n",
       "      <th>marque</th>\n",
       "      <th>modele</th>\n",
       "    </tr>\n",
       "  </thead>\n",
       "  <tbody>\n",
       "    <tr>\n",
       "      <th>0</th>\n",
       "      <td>1</td>\n",
       "      <td>3</td>\n",
       "      <td>gas</td>\n",
       "      <td>std</td>\n",
       "      <td>two</td>\n",
       "      <td>décapotable</td>\n",
       "      <td>propulsion</td>\n",
       "      <td>front</td>\n",
       "      <td>225.0</td>\n",
       "      <td>428.8</td>\n",
       "      <td>...</td>\n",
       "      <td>8.8</td>\n",
       "      <td>6.8</td>\n",
       "      <td>9.0</td>\n",
       "      <td>111</td>\n",
       "      <td>5000</td>\n",
       "      <td>11.200714</td>\n",
       "      <td>8.711667</td>\n",
       "      <td>13495.0</td>\n",
       "      <td>alfa-romeo</td>\n",
       "      <td>giulia</td>\n",
       "    </tr>\n",
       "    <tr>\n",
       "      <th>1</th>\n",
       "      <td>2</td>\n",
       "      <td>3</td>\n",
       "      <td>gas</td>\n",
       "      <td>std</td>\n",
       "      <td>two</td>\n",
       "      <td>décapotable</td>\n",
       "      <td>propulsion</td>\n",
       "      <td>front</td>\n",
       "      <td>225.0</td>\n",
       "      <td>428.8</td>\n",
       "      <td>...</td>\n",
       "      <td>8.8</td>\n",
       "      <td>6.8</td>\n",
       "      <td>9.0</td>\n",
       "      <td>111</td>\n",
       "      <td>5000</td>\n",
       "      <td>11.200714</td>\n",
       "      <td>8.711667</td>\n",
       "      <td>16500.0</td>\n",
       "      <td>alfa-romeo</td>\n",
       "      <td>stelvio</td>\n",
       "    </tr>\n",
       "    <tr>\n",
       "      <th>2</th>\n",
       "      <td>3</td>\n",
       "      <td>1</td>\n",
       "      <td>gas</td>\n",
       "      <td>std</td>\n",
       "      <td>two</td>\n",
       "      <td>hayon</td>\n",
       "      <td>propulsion</td>\n",
       "      <td>front</td>\n",
       "      <td>240.0</td>\n",
       "      <td>434.8</td>\n",
       "      <td>...</td>\n",
       "      <td>6.8</td>\n",
       "      <td>8.8</td>\n",
       "      <td>9.0</td>\n",
       "      <td>154</td>\n",
       "      <td>5000</td>\n",
       "      <td>12.379737</td>\n",
       "      <td>9.046731</td>\n",
       "      <td>16500.0</td>\n",
       "      <td>alfa-romeo</td>\n",
       "      <td>Quadrifoglio</td>\n",
       "    </tr>\n",
       "    <tr>\n",
       "      <th>3</th>\n",
       "      <td>4</td>\n",
       "      <td>2</td>\n",
       "      <td>gas</td>\n",
       "      <td>std</td>\n",
       "      <td>four</td>\n",
       "      <td>berline</td>\n",
       "      <td>traction</td>\n",
       "      <td>front</td>\n",
       "      <td>253.5</td>\n",
       "      <td>448.6</td>\n",
       "      <td>...</td>\n",
       "      <td>8.1</td>\n",
       "      <td>8.6</td>\n",
       "      <td>10.0</td>\n",
       "      <td>102</td>\n",
       "      <td>5500</td>\n",
       "      <td>9.800625</td>\n",
       "      <td>7.840500</td>\n",
       "      <td>13950.0</td>\n",
       "      <td>audi</td>\n",
       "      <td>100ls</td>\n",
       "    </tr>\n",
       "    <tr>\n",
       "      <th>4</th>\n",
       "      <td>5</td>\n",
       "      <td>2</td>\n",
       "      <td>gas</td>\n",
       "      <td>std</td>\n",
       "      <td>four</td>\n",
       "      <td>berline</td>\n",
       "      <td>quatre_roues_motrices</td>\n",
       "      <td>front</td>\n",
       "      <td>252.5</td>\n",
       "      <td>448.6</td>\n",
       "      <td>...</td>\n",
       "      <td>8.1</td>\n",
       "      <td>8.6</td>\n",
       "      <td>8.0</td>\n",
       "      <td>115</td>\n",
       "      <td>5500</td>\n",
       "      <td>13.067500</td>\n",
       "      <td>10.691591</td>\n",
       "      <td>17450.0</td>\n",
       "      <td>audi</td>\n",
       "      <td>100ls</td>\n",
       "    </tr>\n",
       "  </tbody>\n",
       "</table>\n",
       "<p>5 rows × 27 columns</p>\n",
       "</div>"
      ],
      "text/plain": [
       "   car_ID  niveau_risque_assurance carburant turbo nombre_portes  \\\n",
       "0       1                        3       gas   std           two   \n",
       "1       2                        3       gas   std           two   \n",
       "2       3                        1       gas   std           two   \n",
       "3       4                        2       gas   std          four   \n",
       "4       5                        2       gas   std          four   \n",
       "\n",
       "  type_vehicule         roues_motrices emplacement_moteur  empattement(cm)  \\\n",
       "0   décapotable             propulsion              front            225.0   \n",
       "1   décapotable             propulsion              front            225.0   \n",
       "2         hayon             propulsion              front            240.0   \n",
       "3       berline               traction              front            253.5   \n",
       "4       berline  quatre_roues_motrices              front            252.5   \n",
       "\n",
       "   longueur_voiture(cm)  ...  taux_alésage(cm)  course_piston(cm)  \\\n",
       "0                 428.8  ...               8.8                6.8   \n",
       "1                 428.8  ...               8.8                6.8   \n",
       "2                 434.8  ...               6.8                8.8   \n",
       "3                 448.6  ...               8.1                8.6   \n",
       "4                 448.6  ...               8.1                8.6   \n",
       "\n",
       "   taux_compression chevaux tour_moteur  consommation_ville(L/100km)  \\\n",
       "0               9.0     111        5000                    11.200714   \n",
       "1               9.0     111        5000                    11.200714   \n",
       "2               9.0     154        5000                    12.379737   \n",
       "3              10.0     102        5500                     9.800625   \n",
       "4               8.0     115        5500                    13.067500   \n",
       "\n",
       "  consommation_autoroute(L/100km)     prix      marque        modele  \n",
       "0                        8.711667  13495.0  alfa-romeo        giulia  \n",
       "1                        8.711667  16500.0  alfa-romeo       stelvio  \n",
       "2                        9.046731  16500.0  alfa-romeo  Quadrifoglio  \n",
       "3                        7.840500  13950.0        audi         100ls  \n",
       "4                       10.691591  17450.0        audi         100ls  \n",
       "\n",
       "[5 rows x 27 columns]"
      ]
     },
     "execution_count": 56,
     "metadata": {},
     "output_type": "execute_result"
    }
   ],
   "source": [
    "df.head()"
   ]
  }
 ],
 "metadata": {
  "kernelspec": {
   "display_name": "ml_env",
   "language": "python",
   "name": "python3"
  },
  "language_info": {
   "codemirror_mode": {
    "name": "ipython",
    "version": 3
   },
   "file_extension": ".py",
   "mimetype": "text/x-python",
   "name": "python",
   "nbconvert_exporter": "python",
   "pygments_lexer": "ipython3",
   "version": "3.11.3"
  },
  "orig_nbformat": 4
 },
 "nbformat": 4,
 "nbformat_minor": 2
}
